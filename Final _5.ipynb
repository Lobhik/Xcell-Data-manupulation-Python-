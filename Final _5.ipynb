{
 "cells": [
  {
   "cell_type": "code",
   "execution_count": 1,
   "id": "491ec0b0",
   "metadata": {},
   "outputs": [],
   "source": [
    "import pandas as pd\n",
    "import re, os\n",
    "from openpyxl import workbook, load_workbook\n",
    "from openpyxl.utils import get_column_letter\n",
    "from collections import Counter\n"
   ]
  },
  {
   "cell_type": "code",
   "execution_count": 2,
   "id": "20260efa",
   "metadata": {},
   "outputs": [],
   "source": [
    "def voter(path):\n",
    "    A,B,C,D,E,F,G,H = [],[],[],[],[],[],[],[]\n",
    "    f_name = []\n",
    "    House =[]\n",
    "    Middle = []\n",
    "    val, f = [],[]\n",
    "    l, l2 = [], []\n",
    "    p_no, section = [], []\n",
    "    index = []\n",
    "    index2 = []\n",
    "\n",
    "    part_No = []\n",
    "    Assembly = []\n",
    "    pattern = re.compile(r'^Name')\n",
    "    var = \"Photo is\"\n",
    "    var2 = \"Available\"\n",
    "    part = \"None\"\n",
    "\n",
    "    wb = load_workbook(path)\n",
    "    ws = wb.active\n",
    "    #function for removing elements\n",
    "    def rem(lst):\n",
    "        if lst:\n",
    "            for i in lst:\n",
    "                f.remove(i)\n",
    "                return f\n",
    "        else:\n",
    "            return f\n",
    "    df = pd.read_excel(path)\n",
    "    value=df.shape\n",
    "    columns=value[-1]\n",
    "    rows=value[0]\n",
    "    df.head()\n",
    "        \n",
    "    pattern = re.compile(r'^Name:')\n",
    "    ls = list(df.columns)\n",
    "\n",
    "    for i,c in enumerate(ls):\n",
    "        b=df[c].values.tolist()\n",
    "        for k in b:\n",
    "            m=str(k)\n",
    "            if m.__contains__('Name'):\n",
    "                index.append(i)\n",
    "            if m.__contains__('Photo is'):\n",
    "                 index2.append(i)\n",
    "    \n",
    "    col = Counter(index)\n",
    "    index = [x for x in index if col[x] >=5]\n",
    "\n",
    "\n",
    "    col2 = Counter(index2)\n",
    "    index2 = [x for x in index2 if col2[x] >=5]\n",
    "    \n",
    "    res = [i for n, i in enumerate(index) if i not in index[:n]]\n",
    "    res2 = [i for n, i in enumerate(index2) if i not in index2[:n]]\n",
    "\n",
    "    for i in res:\n",
    "        sum=i+1\n",
    "        l.append(sum)\n",
    "\n",
    "    for i in res2:\n",
    "        sum=i+2\n",
    "        l2.append(sum)\n",
    "    for x,y in zip(l,l2):\n",
    "        for row in range(1, rows):\n",
    "            for col in range(x, y):\n",
    "                char = get_column_letter(col)\n",
    "                data=ws[char + str(row)].value\n",
    "                val.append(data)\n",
    "                f=[x for x in val if pd.isnull(x) == False]\n",
    "                \n",
    "    f = [i for i in  f if i != var]\n",
    "    f = [i for i in  f if i != var2]\n",
    "    val =2\n",
    "    for i in range(len(f)):\n",
    "        line=str(f[i])\n",
    "        if line.startswith('Part number'):\n",
    "            part = line\n",
    "        \n",
    "        if line.startswith('Assembly Constituency No and Name'):\n",
    "            a_c=line\n",
    "        \n",
    "        if line.startswith('Section'):\n",
    "            val +=1\n",
    "            page_N = ('page {}'.format(val))\n",
    "            sec = line\n",
    "            \n",
    "        name=re.search(pattern, line)\n",
    "        if name:\n",
    "            section.append(sec)\n",
    "            p_no.append(page_N)\n",
    "            \n",
    "            \n",
    "            A.append(f[i-2])\n",
    "            B.append(f[i-1])\n",
    "            C.append(f[i])\n",
    "            Name=f[i+1]\n",
    "            h=Name.find('Husband')\n",
    "            p=Name.find('Father')\n",
    "            o=Name.find('House')\n",
    "            q=Name.find('Mother')\n",
    "            z=Name.find('Other')\n",
    "            if h and p and o and q and z:\n",
    "                con = f[i] + \" \" + f[i+1]\n",
    "                f_name.append(f[i+1])\n",
    "                C.pop()\n",
    "                C.append(con)\n",
    "    f=rem(f_name)\n",
    "\n",
    "\n",
    "    for j in range(len(f)):\n",
    "        x=str(f[j])\n",
    "        part_No.append(part)\n",
    "        Assembly.append(a_c)\n",
    "        name=re.search(pattern, x)\n",
    "        if name:\n",
    "            D.append(f[j+1])\n",
    "\n",
    "            M_Name=f[j+2]\n",
    "            #print(M_Name)\n",
    "            if type(M_Name) != int:\n",
    "\n",
    "                M_h=M_Name.find('Husband')\n",
    "                M_p=M_Name.find('Father')\n",
    "                M_o=M_Name.find('House')\n",
    "                M_m=M_Name.find('Mother')\n",
    "                if M_h and M_p and M_o and M_m:\n",
    "                    con = f[j+1] + \" \" + f[j+2]\n",
    "                    Middle.append(f[j+2])\n",
    "                    D.pop()\n",
    "                    D.append(con)\n",
    "\n",
    "    f=rem(Middle)\n",
    "\n",
    "    for j in range(len(f)):\n",
    "        x=str(f[j])\n",
    "        name=re.search(pattern, x)\n",
    "        if name:\n",
    "            E.append(f[j+2])\n",
    "\n",
    "            M_Name=str(f[j+3])\n",
    "            #print(M_Name)\n",
    "\n",
    "            if type(M_Name) != float:\n",
    "                M_h=M_Name.find('Age')\n",
    "                M_p=M_Name.find('gAe')\n",
    "                M_o=M_Name.find('House')\n",
    "                M_m=M_Name.find('ge')\n",
    "                M_n=M_Name.find('Ae')\n",
    "                #print(type(M_Name))\n",
    "                #print(E)\n",
    "                if M_h and M_p and M_o and M_m and M_n:\n",
    "                    con = str(f[j+2]) + \" \" + str(f[j+3])\n",
    "                    House.append(f[j+3])\n",
    "                    E.pop()\n",
    "                    E.append(con)\n",
    "            F.append(f[j+3])\n",
    "            #G.append(f[j+4])\n",
    "            #H.append(f[j+5])\n",
    "    f=rem(House)\n",
    "    First = pd.DataFrame(list(zip(Assembly,part_No, section, p_no, A, B, C, D, E, F)), columns =['Assembly','PartNo', 'section','Page', 'SR.NO','VoterID', 'Name', 'FHMO_Name','HOUSE NO','AGE'])\n",
    "    #split  age and gender\n",
    "    AGE = First['AGE'].str[:8]\n",
    "    GENDER = First['AGE'].str[8:]\n",
    "    First.drop(['AGE'], axis = 1)\n",
    "    First['AGE'] = AGE\n",
    "    First['GENDER'] = GENDER\n",
    "    #First\n",
    "    return First#.to_excel(\"DRY_RUN.xlsx\")"
   ]
  },
  {
   "cell_type": "code",
   "execution_count": 3,
   "id": "754ae934",
   "metadata": {},
   "outputs": [],
   "source": [
    "Input = 'C:\\\\Arunachal PDFs\\\\Mother_integrated\\\\Done Files 16-20\\\\'\n",
    "Output = 'C:\\\\Arunachal PDFs\\\\Mother_integrated\\\\Done Files 16-20\\\\Final excel\\\\'"
   ]
  },
  {
   "cell_type": "code",
   "execution_count": 4,
   "id": "1f5fc24b",
   "metadata": {},
   "outputs": [
    {
     "name": "stdout",
     "output_type": "stream",
     "text": [
      "C:\\Arunachal PDFs\\Mother_integrated\\Done Files 16-20\\S02A16P18.xlsx\n",
      "AttributeError\n",
      "C:\\Arunachal PDFs\\Mother_integrated\\Done Files 16-20\\S02A16P19.xlsx\n"
     ]
    },
    {
     "name": "stderr",
     "output_type": "stream",
     "text": [
      "C:\\Users\\Administrator\\AppData\\Local\\Temp\\2\\ipykernel_8492\\1199900709.py:10: FutureWarning: The frame.append method is deprecated and will be removed from pandas in a future version. Use pandas.concat instead.\n",
      "  df = df.append(df1)\n"
     ]
    },
    {
     "name": "stdout",
     "output_type": "stream",
     "text": [
      "C:\\Arunachal PDFs\\Mother_integrated\\Done Files 16-20\\Final excel\\S02A16P19.xlsx\n",
      "C:\\Arunachal PDFs\\Mother_integrated\\Done Files 16-20\\S02A16P2.xlsx\n"
     ]
    },
    {
     "name": "stderr",
     "output_type": "stream",
     "text": [
      "C:\\Users\\Administrator\\AppData\\Local\\Temp\\2\\ipykernel_8492\\1199900709.py:10: FutureWarning: The frame.append method is deprecated and will be removed from pandas in a future version. Use pandas.concat instead.\n",
      "  df = df.append(df1)\n"
     ]
    },
    {
     "name": "stdout",
     "output_type": "stream",
     "text": [
      "C:\\Arunachal PDFs\\Mother_integrated\\Done Files 16-20\\Final excel\\S02A16P2.xlsx\n",
      "C:\\Arunachal PDFs\\Mother_integrated\\Done Files 16-20\\S02A16P20.xlsx\n"
     ]
    },
    {
     "name": "stderr",
     "output_type": "stream",
     "text": [
      "C:\\Users\\Administrator\\AppData\\Local\\Temp\\2\\ipykernel_8492\\1199900709.py:10: FutureWarning: The frame.append method is deprecated and will be removed from pandas in a future version. Use pandas.concat instead.\n",
      "  df = df.append(df1)\n"
     ]
    },
    {
     "name": "stdout",
     "output_type": "stream",
     "text": [
      "C:\\Arunachal PDFs\\Mother_integrated\\Done Files 16-20\\Final excel\\S02A16P20.xlsx\n",
      "C:\\Arunachal PDFs\\Mother_integrated\\Done Files 16-20\\S02A16P21.xlsx\n"
     ]
    },
    {
     "name": "stderr",
     "output_type": "stream",
     "text": [
      "C:\\Users\\Administrator\\AppData\\Local\\Temp\\2\\ipykernel_8492\\1199900709.py:10: FutureWarning: The frame.append method is deprecated and will be removed from pandas in a future version. Use pandas.concat instead.\n",
      "  df = df.append(df1)\n"
     ]
    },
    {
     "name": "stdout",
     "output_type": "stream",
     "text": [
      "C:\\Arunachal PDFs\\Mother_integrated\\Done Files 16-20\\Final excel\\S02A16P21.xlsx\n",
      "C:\\Arunachal PDFs\\Mother_integrated\\Done Files 16-20\\S02A16P22.xlsx\n"
     ]
    },
    {
     "name": "stderr",
     "output_type": "stream",
     "text": [
      "C:\\Users\\Administrator\\AppData\\Local\\Temp\\2\\ipykernel_8492\\1199900709.py:10: FutureWarning: The frame.append method is deprecated and will be removed from pandas in a future version. Use pandas.concat instead.\n",
      "  df = df.append(df1)\n"
     ]
    },
    {
     "name": "stdout",
     "output_type": "stream",
     "text": [
      "C:\\Arunachal PDFs\\Mother_integrated\\Done Files 16-20\\Final excel\\S02A16P22.xlsx\n",
      "C:\\Arunachal PDFs\\Mother_integrated\\Done Files 16-20\\S02A16P23.xlsx\n"
     ]
    },
    {
     "name": "stderr",
     "output_type": "stream",
     "text": [
      "C:\\Users\\Administrator\\AppData\\Local\\Temp\\2\\ipykernel_8492\\1199900709.py:10: FutureWarning: The frame.append method is deprecated and will be removed from pandas in a future version. Use pandas.concat instead.\n",
      "  df = df.append(df1)\n"
     ]
    },
    {
     "name": "stdout",
     "output_type": "stream",
     "text": [
      "C:\\Arunachal PDFs\\Mother_integrated\\Done Files 16-20\\Final excel\\S02A16P23.xlsx\n",
      "C:\\Arunachal PDFs\\Mother_integrated\\Done Files 16-20\\S02A16P24.xlsx\n"
     ]
    },
    {
     "name": "stderr",
     "output_type": "stream",
     "text": [
      "C:\\Users\\Administrator\\AppData\\Local\\Temp\\2\\ipykernel_8492\\1199900709.py:10: FutureWarning: The frame.append method is deprecated and will be removed from pandas in a future version. Use pandas.concat instead.\n",
      "  df = df.append(df1)\n"
     ]
    },
    {
     "name": "stdout",
     "output_type": "stream",
     "text": [
      "C:\\Arunachal PDFs\\Mother_integrated\\Done Files 16-20\\Final excel\\S02A16P24.xlsx\n",
      "C:\\Arunachal PDFs\\Mother_integrated\\Done Files 16-20\\S02A16P25.xlsx\n"
     ]
    },
    {
     "name": "stderr",
     "output_type": "stream",
     "text": [
      "C:\\Users\\Administrator\\AppData\\Local\\Temp\\2\\ipykernel_8492\\1199900709.py:10: FutureWarning: The frame.append method is deprecated and will be removed from pandas in a future version. Use pandas.concat instead.\n",
      "  df = df.append(df1)\n"
     ]
    },
    {
     "name": "stdout",
     "output_type": "stream",
     "text": [
      "C:\\Arunachal PDFs\\Mother_integrated\\Done Files 16-20\\Final excel\\S02A16P25.xlsx\n",
      "C:\\Arunachal PDFs\\Mother_integrated\\Done Files 16-20\\S02A16P26.xlsx\n"
     ]
    },
    {
     "name": "stderr",
     "output_type": "stream",
     "text": [
      "C:\\Users\\Administrator\\AppData\\Local\\Temp\\2\\ipykernel_8492\\1199900709.py:10: FutureWarning: The frame.append method is deprecated and will be removed from pandas in a future version. Use pandas.concat instead.\n",
      "  df = df.append(df1)\n"
     ]
    },
    {
     "name": "stdout",
     "output_type": "stream",
     "text": [
      "C:\\Arunachal PDFs\\Mother_integrated\\Done Files 16-20\\Final excel\\S02A16P26.xlsx\n",
      "C:\\Arunachal PDFs\\Mother_integrated\\Done Files 16-20\\S02A16P27.xlsx\n",
      "AttributeError\n",
      "C:\\Arunachal PDFs\\Mother_integrated\\Done Files 16-20\\S02A16P28.xlsx\n"
     ]
    },
    {
     "name": "stderr",
     "output_type": "stream",
     "text": [
      "C:\\Users\\Administrator\\AppData\\Local\\Temp\\2\\ipykernel_8492\\1199900709.py:10: FutureWarning: The frame.append method is deprecated and will be removed from pandas in a future version. Use pandas.concat instead.\n",
      "  df = df.append(df1)\n"
     ]
    },
    {
     "name": "stdout",
     "output_type": "stream",
     "text": [
      "C:\\Arunachal PDFs\\Mother_integrated\\Done Files 16-20\\Final excel\\S02A16P28.xlsx\n",
      "C:\\Arunachal PDFs\\Mother_integrated\\Done Files 16-20\\S02A16P29.xlsx\n"
     ]
    },
    {
     "name": "stderr",
     "output_type": "stream",
     "text": [
      "C:\\Users\\Administrator\\AppData\\Local\\Temp\\2\\ipykernel_8492\\1199900709.py:10: FutureWarning: The frame.append method is deprecated and will be removed from pandas in a future version. Use pandas.concat instead.\n",
      "  df = df.append(df1)\n"
     ]
    },
    {
     "name": "stdout",
     "output_type": "stream",
     "text": [
      "C:\\Arunachal PDFs\\Mother_integrated\\Done Files 16-20\\Final excel\\S02A16P29.xlsx\n",
      "C:\\Arunachal PDFs\\Mother_integrated\\Done Files 16-20\\S02A16P3.xlsx\n"
     ]
    },
    {
     "name": "stderr",
     "output_type": "stream",
     "text": [
      "C:\\Users\\Administrator\\AppData\\Local\\Temp\\2\\ipykernel_8492\\1199900709.py:10: FutureWarning: The frame.append method is deprecated and will be removed from pandas in a future version. Use pandas.concat instead.\n",
      "  df = df.append(df1)\n"
     ]
    },
    {
     "name": "stdout",
     "output_type": "stream",
     "text": [
      "C:\\Arunachal PDFs\\Mother_integrated\\Done Files 16-20\\Final excel\\S02A16P3.xlsx\n",
      "C:\\Arunachal PDFs\\Mother_integrated\\Done Files 16-20\\S02A16P30.xlsx\n",
      "AttributeError\n",
      "C:\\Arunachal PDFs\\Mother_integrated\\Done Files 16-20\\S02A16P31.xlsx\n"
     ]
    },
    {
     "name": "stderr",
     "output_type": "stream",
     "text": [
      "C:\\Users\\Administrator\\AppData\\Local\\Temp\\2\\ipykernel_8492\\1199900709.py:10: FutureWarning: The frame.append method is deprecated and will be removed from pandas in a future version. Use pandas.concat instead.\n",
      "  df = df.append(df1)\n"
     ]
    },
    {
     "name": "stdout",
     "output_type": "stream",
     "text": [
      "C:\\Arunachal PDFs\\Mother_integrated\\Done Files 16-20\\Final excel\\S02A16P31.xlsx\n",
      "C:\\Arunachal PDFs\\Mother_integrated\\Done Files 16-20\\S02A16P32.xlsx\n"
     ]
    },
    {
     "name": "stderr",
     "output_type": "stream",
     "text": [
      "C:\\Users\\Administrator\\AppData\\Local\\Temp\\2\\ipykernel_8492\\1199900709.py:10: FutureWarning: The frame.append method is deprecated and will be removed from pandas in a future version. Use pandas.concat instead.\n",
      "  df = df.append(df1)\n"
     ]
    },
    {
     "name": "stdout",
     "output_type": "stream",
     "text": [
      "C:\\Arunachal PDFs\\Mother_integrated\\Done Files 16-20\\Final excel\\S02A16P32.xlsx\n",
      "C:\\Arunachal PDFs\\Mother_integrated\\Done Files 16-20\\S02A16P33.xlsx\n"
     ]
    },
    {
     "name": "stderr",
     "output_type": "stream",
     "text": [
      "C:\\Users\\Administrator\\AppData\\Local\\Temp\\2\\ipykernel_8492\\1199900709.py:10: FutureWarning: The frame.append method is deprecated and will be removed from pandas in a future version. Use pandas.concat instead.\n",
      "  df = df.append(df1)\n"
     ]
    },
    {
     "name": "stdout",
     "output_type": "stream",
     "text": [
      "C:\\Arunachal PDFs\\Mother_integrated\\Done Files 16-20\\Final excel\\S02A16P33.xlsx\n",
      "C:\\Arunachal PDFs\\Mother_integrated\\Done Files 16-20\\S02A16P34.xlsx\n"
     ]
    },
    {
     "name": "stderr",
     "output_type": "stream",
     "text": [
      "C:\\Users\\Administrator\\AppData\\Local\\Temp\\2\\ipykernel_8492\\1199900709.py:10: FutureWarning: The frame.append method is deprecated and will be removed from pandas in a future version. Use pandas.concat instead.\n",
      "  df = df.append(df1)\n"
     ]
    },
    {
     "name": "stdout",
     "output_type": "stream",
     "text": [
      "C:\\Arunachal PDFs\\Mother_integrated\\Done Files 16-20\\Final excel\\S02A16P34.xlsx\n",
      "C:\\Arunachal PDFs\\Mother_integrated\\Done Files 16-20\\S02A16P35.xlsx\n",
      "AttributeError\n",
      "C:\\Arunachal PDFs\\Mother_integrated\\Done Files 16-20\\S02A16P36.xlsx\n"
     ]
    },
    {
     "name": "stderr",
     "output_type": "stream",
     "text": [
      "C:\\Users\\Administrator\\AppData\\Local\\Temp\\2\\ipykernel_8492\\1199900709.py:10: FutureWarning: The frame.append method is deprecated and will be removed from pandas in a future version. Use pandas.concat instead.\n",
      "  df = df.append(df1)\n"
     ]
    },
    {
     "name": "stdout",
     "output_type": "stream",
     "text": [
      "C:\\Arunachal PDFs\\Mother_integrated\\Done Files 16-20\\Final excel\\S02A16P36.xlsx\n",
      "C:\\Arunachal PDFs\\Mother_integrated\\Done Files 16-20\\S02A16P37.xlsx\n"
     ]
    },
    {
     "name": "stderr",
     "output_type": "stream",
     "text": [
      "C:\\Users\\Administrator\\AppData\\Local\\Temp\\2\\ipykernel_8492\\1199900709.py:10: FutureWarning: The frame.append method is deprecated and will be removed from pandas in a future version. Use pandas.concat instead.\n",
      "  df = df.append(df1)\n"
     ]
    },
    {
     "name": "stdout",
     "output_type": "stream",
     "text": [
      "C:\\Arunachal PDFs\\Mother_integrated\\Done Files 16-20\\Final excel\\S02A16P37.xlsx\n",
      "C:\\Arunachal PDFs\\Mother_integrated\\Done Files 16-20\\S02A16P38.xlsx\n"
     ]
    },
    {
     "name": "stderr",
     "output_type": "stream",
     "text": [
      "C:\\Users\\Administrator\\AppData\\Local\\Temp\\2\\ipykernel_8492\\1199900709.py:10: FutureWarning: The frame.append method is deprecated and will be removed from pandas in a future version. Use pandas.concat instead.\n",
      "  df = df.append(df1)\n"
     ]
    },
    {
     "name": "stdout",
     "output_type": "stream",
     "text": [
      "C:\\Arunachal PDFs\\Mother_integrated\\Done Files 16-20\\Final excel\\S02A16P38.xlsx\n",
      "C:\\Arunachal PDFs\\Mother_integrated\\Done Files 16-20\\S02A16P39.xlsx\n"
     ]
    },
    {
     "name": "stderr",
     "output_type": "stream",
     "text": [
      "C:\\Users\\Administrator\\AppData\\Local\\Temp\\2\\ipykernel_8492\\1199900709.py:10: FutureWarning: The frame.append method is deprecated and will be removed from pandas in a future version. Use pandas.concat instead.\n",
      "  df = df.append(df1)\n"
     ]
    },
    {
     "name": "stdout",
     "output_type": "stream",
     "text": [
      "C:\\Arunachal PDFs\\Mother_integrated\\Done Files 16-20\\Final excel\\S02A16P39.xlsx\n",
      "C:\\Arunachal PDFs\\Mother_integrated\\Done Files 16-20\\S02A16P4.xlsx\n"
     ]
    },
    {
     "name": "stderr",
     "output_type": "stream",
     "text": [
      "C:\\Users\\Administrator\\AppData\\Local\\Temp\\2\\ipykernel_8492\\1199900709.py:10: FutureWarning: The frame.append method is deprecated and will be removed from pandas in a future version. Use pandas.concat instead.\n",
      "  df = df.append(df1)\n"
     ]
    },
    {
     "name": "stdout",
     "output_type": "stream",
     "text": [
      "C:\\Arunachal PDFs\\Mother_integrated\\Done Files 16-20\\Final excel\\S02A16P4.xlsx\n",
      "C:\\Arunachal PDFs\\Mother_integrated\\Done Files 16-20\\S02A16P40.xlsx\n"
     ]
    },
    {
     "name": "stderr",
     "output_type": "stream",
     "text": [
      "C:\\Users\\Administrator\\AppData\\Local\\Temp\\2\\ipykernel_8492\\1199900709.py:10: FutureWarning: The frame.append method is deprecated and will be removed from pandas in a future version. Use pandas.concat instead.\n",
      "  df = df.append(df1)\n"
     ]
    },
    {
     "name": "stdout",
     "output_type": "stream",
     "text": [
      "C:\\Arunachal PDFs\\Mother_integrated\\Done Files 16-20\\Final excel\\S02A16P40.xlsx\n",
      "C:\\Arunachal PDFs\\Mother_integrated\\Done Files 16-20\\S02A16P41 - Copy.xlsx\n"
     ]
    },
    {
     "name": "stderr",
     "output_type": "stream",
     "text": [
      "C:\\Users\\Administrator\\AppData\\Local\\Temp\\2\\ipykernel_8492\\1199900709.py:10: FutureWarning: The frame.append method is deprecated and will be removed from pandas in a future version. Use pandas.concat instead.\n",
      "  df = df.append(df1)\n"
     ]
    },
    {
     "name": "stdout",
     "output_type": "stream",
     "text": [
      "C:\\Arunachal PDFs\\Mother_integrated\\Done Files 16-20\\Final excel\\S02A16P41 - Copy.xlsx\n",
      "C:\\Arunachal PDFs\\Mother_integrated\\Done Files 16-20\\S02A16P41.xlsx\n"
     ]
    },
    {
     "name": "stderr",
     "output_type": "stream",
     "text": [
      "C:\\Users\\Administrator\\AppData\\Local\\Temp\\2\\ipykernel_8492\\1199900709.py:10: FutureWarning: The frame.append method is deprecated and will be removed from pandas in a future version. Use pandas.concat instead.\n",
      "  df = df.append(df1)\n"
     ]
    },
    {
     "name": "stdout",
     "output_type": "stream",
     "text": [
      "C:\\Arunachal PDFs\\Mother_integrated\\Done Files 16-20\\Final excel\\S02A16P41.xlsx\n",
      "C:\\Arunachal PDFs\\Mother_integrated\\Done Files 16-20\\S02A16P42.xlsx\n"
     ]
    },
    {
     "name": "stderr",
     "output_type": "stream",
     "text": [
      "C:\\Users\\Administrator\\AppData\\Local\\Temp\\2\\ipykernel_8492\\1199900709.py:10: FutureWarning: The frame.append method is deprecated and will be removed from pandas in a future version. Use pandas.concat instead.\n",
      "  df = df.append(df1)\n"
     ]
    },
    {
     "name": "stdout",
     "output_type": "stream",
     "text": [
      "C:\\Arunachal PDFs\\Mother_integrated\\Done Files 16-20\\Final excel\\S02A16P42.xlsx\n",
      "C:\\Arunachal PDFs\\Mother_integrated\\Done Files 16-20\\S02A16P43.xlsx\n"
     ]
    },
    {
     "name": "stderr",
     "output_type": "stream",
     "text": [
      "C:\\Users\\Administrator\\AppData\\Local\\Temp\\2\\ipykernel_8492\\1199900709.py:10: FutureWarning: The frame.append method is deprecated and will be removed from pandas in a future version. Use pandas.concat instead.\n",
      "  df = df.append(df1)\n"
     ]
    },
    {
     "name": "stdout",
     "output_type": "stream",
     "text": [
      "C:\\Arunachal PDFs\\Mother_integrated\\Done Files 16-20\\Final excel\\S02A16P43.xlsx\n",
      "C:\\Arunachal PDFs\\Mother_integrated\\Done Files 16-20\\S02A16P44.xlsx\n"
     ]
    },
    {
     "name": "stderr",
     "output_type": "stream",
     "text": [
      "C:\\Users\\Administrator\\AppData\\Local\\Temp\\2\\ipykernel_8492\\1199900709.py:10: FutureWarning: The frame.append method is deprecated and will be removed from pandas in a future version. Use pandas.concat instead.\n",
      "  df = df.append(df1)\n"
     ]
    },
    {
     "name": "stdout",
     "output_type": "stream",
     "text": [
      "C:\\Arunachal PDFs\\Mother_integrated\\Done Files 16-20\\Final excel\\S02A16P44.xlsx\n",
      "C:\\Arunachal PDFs\\Mother_integrated\\Done Files 16-20\\S02A16P5.xlsx\n"
     ]
    },
    {
     "name": "stderr",
     "output_type": "stream",
     "text": [
      "C:\\Users\\Administrator\\AppData\\Local\\Temp\\2\\ipykernel_8492\\1199900709.py:10: FutureWarning: The frame.append method is deprecated and will be removed from pandas in a future version. Use pandas.concat instead.\n",
      "  df = df.append(df1)\n"
     ]
    },
    {
     "name": "stdout",
     "output_type": "stream",
     "text": [
      "C:\\Arunachal PDFs\\Mother_integrated\\Done Files 16-20\\Final excel\\S02A16P5.xlsx\n",
      "C:\\Arunachal PDFs\\Mother_integrated\\Done Files 16-20\\S02A16P6.xlsx\n"
     ]
    },
    {
     "name": "stderr",
     "output_type": "stream",
     "text": [
      "C:\\Users\\Administrator\\AppData\\Local\\Temp\\2\\ipykernel_8492\\1199900709.py:10: FutureWarning: The frame.append method is deprecated and will be removed from pandas in a future version. Use pandas.concat instead.\n",
      "  df = df.append(df1)\n"
     ]
    },
    {
     "name": "stdout",
     "output_type": "stream",
     "text": [
      "C:\\Arunachal PDFs\\Mother_integrated\\Done Files 16-20\\Final excel\\S02A16P6.xlsx\n",
      "C:\\Arunachal PDFs\\Mother_integrated\\Done Files 16-20\\S02A16P7.xlsx\n",
      "AttributeError\n",
      "C:\\Arunachal PDFs\\Mother_integrated\\Done Files 16-20\\S02A16P8.xlsx\n",
      "AttributeError\n",
      "C:\\Arunachal PDFs\\Mother_integrated\\Done Files 16-20\\S02A16P9.xlsx\n"
     ]
    },
    {
     "name": "stderr",
     "output_type": "stream",
     "text": [
      "C:\\Users\\Administrator\\AppData\\Local\\Temp\\2\\ipykernel_8492\\1199900709.py:10: FutureWarning: The frame.append method is deprecated and will be removed from pandas in a future version. Use pandas.concat instead.\n",
      "  df = df.append(df1)\n"
     ]
    },
    {
     "name": "stdout",
     "output_type": "stream",
     "text": [
      "C:\\Arunachal PDFs\\Mother_integrated\\Done Files 16-20\\Final excel\\S02A16P9.xlsx\n",
      "C:\\Arunachal PDFs\\Mother_integrated\\Done Files 16-20\\S02A17P1.xlsx\n"
     ]
    },
    {
     "name": "stderr",
     "output_type": "stream",
     "text": [
      "C:\\Users\\Administrator\\AppData\\Local\\Temp\\2\\ipykernel_8492\\1199900709.py:10: FutureWarning: The frame.append method is deprecated and will be removed from pandas in a future version. Use pandas.concat instead.\n",
      "  df = df.append(df1)\n"
     ]
    },
    {
     "name": "stdout",
     "output_type": "stream",
     "text": [
      "C:\\Arunachal PDFs\\Mother_integrated\\Done Files 16-20\\Final excel\\S02A17P1.xlsx\n",
      "C:\\Arunachal PDFs\\Mother_integrated\\Done Files 16-20\\S02A17P10.xlsx\n"
     ]
    },
    {
     "name": "stderr",
     "output_type": "stream",
     "text": [
      "C:\\Users\\Administrator\\AppData\\Local\\Temp\\2\\ipykernel_8492\\1199900709.py:10: FutureWarning: The frame.append method is deprecated and will be removed from pandas in a future version. Use pandas.concat instead.\n",
      "  df = df.append(df1)\n"
     ]
    },
    {
     "name": "stdout",
     "output_type": "stream",
     "text": [
      "C:\\Arunachal PDFs\\Mother_integrated\\Done Files 16-20\\Final excel\\S02A17P10.xlsx\n",
      "C:\\Arunachal PDFs\\Mother_integrated\\Done Files 16-20\\S02A17P11.xlsx\n"
     ]
    },
    {
     "name": "stderr",
     "output_type": "stream",
     "text": [
      "C:\\Users\\Administrator\\AppData\\Local\\Temp\\2\\ipykernel_8492\\1199900709.py:10: FutureWarning: The frame.append method is deprecated and will be removed from pandas in a future version. Use pandas.concat instead.\n",
      "  df = df.append(df1)\n"
     ]
    },
    {
     "name": "stdout",
     "output_type": "stream",
     "text": [
      "C:\\Arunachal PDFs\\Mother_integrated\\Done Files 16-20\\Final excel\\S02A17P11.xlsx\n",
      "C:\\Arunachal PDFs\\Mother_integrated\\Done Files 16-20\\S02A17P12.xlsx\n",
      "AttributeError\n",
      "C:\\Arunachal PDFs\\Mother_integrated\\Done Files 16-20\\S02A17P13.xlsx\n"
     ]
    },
    {
     "name": "stderr",
     "output_type": "stream",
     "text": [
      "C:\\Users\\Administrator\\AppData\\Local\\Temp\\2\\ipykernel_8492\\1199900709.py:10: FutureWarning: The frame.append method is deprecated and will be removed from pandas in a future version. Use pandas.concat instead.\n",
      "  df = df.append(df1)\n"
     ]
    },
    {
     "name": "stdout",
     "output_type": "stream",
     "text": [
      "C:\\Arunachal PDFs\\Mother_integrated\\Done Files 16-20\\Final excel\\S02A17P13.xlsx\n",
      "C:\\Arunachal PDFs\\Mother_integrated\\Done Files 16-20\\S02A17P14.xlsx\n"
     ]
    },
    {
     "name": "stderr",
     "output_type": "stream",
     "text": [
      "C:\\Users\\Administrator\\AppData\\Local\\Temp\\2\\ipykernel_8492\\1199900709.py:10: FutureWarning: The frame.append method is deprecated and will be removed from pandas in a future version. Use pandas.concat instead.\n",
      "  df = df.append(df1)\n"
     ]
    },
    {
     "name": "stdout",
     "output_type": "stream",
     "text": [
      "C:\\Arunachal PDFs\\Mother_integrated\\Done Files 16-20\\Final excel\\S02A17P14.xlsx\n",
      "C:\\Arunachal PDFs\\Mother_integrated\\Done Files 16-20\\S02A17P15.xlsx\n"
     ]
    },
    {
     "name": "stderr",
     "output_type": "stream",
     "text": [
      "C:\\Users\\Administrator\\AppData\\Local\\Temp\\2\\ipykernel_8492\\1199900709.py:10: FutureWarning: The frame.append method is deprecated and will be removed from pandas in a future version. Use pandas.concat instead.\n",
      "  df = df.append(df1)\n"
     ]
    },
    {
     "name": "stdout",
     "output_type": "stream",
     "text": [
      "C:\\Arunachal PDFs\\Mother_integrated\\Done Files 16-20\\Final excel\\S02A17P15.xlsx\n",
      "C:\\Arunachal PDFs\\Mother_integrated\\Done Files 16-20\\S02A17P16.xlsx\n"
     ]
    },
    {
     "name": "stderr",
     "output_type": "stream",
     "text": [
      "C:\\Users\\Administrator\\AppData\\Local\\Temp\\2\\ipykernel_8492\\1199900709.py:10: FutureWarning: The frame.append method is deprecated and will be removed from pandas in a future version. Use pandas.concat instead.\n",
      "  df = df.append(df1)\n"
     ]
    },
    {
     "name": "stdout",
     "output_type": "stream",
     "text": [
      "C:\\Arunachal PDFs\\Mother_integrated\\Done Files 16-20\\Final excel\\S02A17P16.xlsx\n",
      "C:\\Arunachal PDFs\\Mother_integrated\\Done Files 16-20\\S02A17P17.xlsx\n"
     ]
    },
    {
     "name": "stderr",
     "output_type": "stream",
     "text": [
      "C:\\Users\\Administrator\\AppData\\Local\\Temp\\2\\ipykernel_8492\\1199900709.py:10: FutureWarning: The frame.append method is deprecated and will be removed from pandas in a future version. Use pandas.concat instead.\n",
      "  df = df.append(df1)\n"
     ]
    },
    {
     "name": "stdout",
     "output_type": "stream",
     "text": [
      "C:\\Arunachal PDFs\\Mother_integrated\\Done Files 16-20\\Final excel\\S02A17P17.xlsx\n",
      "C:\\Arunachal PDFs\\Mother_integrated\\Done Files 16-20\\S02A17P18.xlsx\n"
     ]
    },
    {
     "name": "stderr",
     "output_type": "stream",
     "text": [
      "C:\\Users\\Administrator\\AppData\\Local\\Temp\\2\\ipykernel_8492\\1199900709.py:10: FutureWarning: The frame.append method is deprecated and will be removed from pandas in a future version. Use pandas.concat instead.\n",
      "  df = df.append(df1)\n"
     ]
    },
    {
     "name": "stdout",
     "output_type": "stream",
     "text": [
      "C:\\Arunachal PDFs\\Mother_integrated\\Done Files 16-20\\Final excel\\S02A17P18.xlsx\n",
      "C:\\Arunachal PDFs\\Mother_integrated\\Done Files 16-20\\S02A17P19.xlsx\n"
     ]
    },
    {
     "name": "stderr",
     "output_type": "stream",
     "text": [
      "C:\\Users\\Administrator\\AppData\\Local\\Temp\\2\\ipykernel_8492\\1199900709.py:10: FutureWarning: The frame.append method is deprecated and will be removed from pandas in a future version. Use pandas.concat instead.\n",
      "  df = df.append(df1)\n"
     ]
    },
    {
     "name": "stdout",
     "output_type": "stream",
     "text": [
      "C:\\Arunachal PDFs\\Mother_integrated\\Done Files 16-20\\Final excel\\S02A17P19.xlsx\n",
      "C:\\Arunachal PDFs\\Mother_integrated\\Done Files 16-20\\S02A17P2.xlsx\n"
     ]
    },
    {
     "name": "stderr",
     "output_type": "stream",
     "text": [
      "C:\\Users\\Administrator\\AppData\\Local\\Temp\\2\\ipykernel_8492\\1199900709.py:10: FutureWarning: The frame.append method is deprecated and will be removed from pandas in a future version. Use pandas.concat instead.\n",
      "  df = df.append(df1)\n"
     ]
    },
    {
     "name": "stdout",
     "output_type": "stream",
     "text": [
      "C:\\Arunachal PDFs\\Mother_integrated\\Done Files 16-20\\Final excel\\S02A17P2.xlsx\n",
      "C:\\Arunachal PDFs\\Mother_integrated\\Done Files 16-20\\S02A17P20.xlsx\n"
     ]
    },
    {
     "name": "stderr",
     "output_type": "stream",
     "text": [
      "C:\\Users\\Administrator\\AppData\\Local\\Temp\\2\\ipykernel_8492\\1199900709.py:10: FutureWarning: The frame.append method is deprecated and will be removed from pandas in a future version. Use pandas.concat instead.\n",
      "  df = df.append(df1)\n"
     ]
    },
    {
     "name": "stdout",
     "output_type": "stream",
     "text": [
      "C:\\Arunachal PDFs\\Mother_integrated\\Done Files 16-20\\Final excel\\S02A17P20.xlsx\n",
      "C:\\Arunachal PDFs\\Mother_integrated\\Done Files 16-20\\S02A17P21.xlsx\n"
     ]
    },
    {
     "name": "stderr",
     "output_type": "stream",
     "text": [
      "C:\\Users\\Administrator\\AppData\\Local\\Temp\\2\\ipykernel_8492\\1199900709.py:10: FutureWarning: The frame.append method is deprecated and will be removed from pandas in a future version. Use pandas.concat instead.\n",
      "  df = df.append(df1)\n"
     ]
    },
    {
     "name": "stdout",
     "output_type": "stream",
     "text": [
      "C:\\Arunachal PDFs\\Mother_integrated\\Done Files 16-20\\Final excel\\S02A17P21.xlsx\n",
      "C:\\Arunachal PDFs\\Mother_integrated\\Done Files 16-20\\S02A17P22.xlsx\n"
     ]
    },
    {
     "name": "stderr",
     "output_type": "stream",
     "text": [
      "C:\\Users\\Administrator\\AppData\\Local\\Temp\\2\\ipykernel_8492\\1199900709.py:10: FutureWarning: The frame.append method is deprecated and will be removed from pandas in a future version. Use pandas.concat instead.\n",
      "  df = df.append(df1)\n"
     ]
    },
    {
     "name": "stdout",
     "output_type": "stream",
     "text": [
      "C:\\Arunachal PDFs\\Mother_integrated\\Done Files 16-20\\Final excel\\S02A17P22.xlsx\n",
      "C:\\Arunachal PDFs\\Mother_integrated\\Done Files 16-20\\S02A17P23.xlsx\n"
     ]
    },
    {
     "name": "stderr",
     "output_type": "stream",
     "text": [
      "C:\\Users\\Administrator\\AppData\\Local\\Temp\\2\\ipykernel_8492\\1199900709.py:10: FutureWarning: The frame.append method is deprecated and will be removed from pandas in a future version. Use pandas.concat instead.\n",
      "  df = df.append(df1)\n"
     ]
    },
    {
     "name": "stdout",
     "output_type": "stream",
     "text": [
      "C:\\Arunachal PDFs\\Mother_integrated\\Done Files 16-20\\Final excel\\S02A17P23.xlsx\n",
      "C:\\Arunachal PDFs\\Mother_integrated\\Done Files 16-20\\S02A17P24.xlsx\n"
     ]
    },
    {
     "name": "stderr",
     "output_type": "stream",
     "text": [
      "C:\\Users\\Administrator\\AppData\\Local\\Temp\\2\\ipykernel_8492\\1199900709.py:10: FutureWarning: The frame.append method is deprecated and will be removed from pandas in a future version. Use pandas.concat instead.\n",
      "  df = df.append(df1)\n"
     ]
    },
    {
     "name": "stdout",
     "output_type": "stream",
     "text": [
      "C:\\Arunachal PDFs\\Mother_integrated\\Done Files 16-20\\Final excel\\S02A17P24.xlsx\n",
      "C:\\Arunachal PDFs\\Mother_integrated\\Done Files 16-20\\S02A17P25.xlsx\n"
     ]
    },
    {
     "name": "stderr",
     "output_type": "stream",
     "text": [
      "C:\\Users\\Administrator\\AppData\\Local\\Temp\\2\\ipykernel_8492\\1199900709.py:10: FutureWarning: The frame.append method is deprecated and will be removed from pandas in a future version. Use pandas.concat instead.\n",
      "  df = df.append(df1)\n"
     ]
    },
    {
     "name": "stdout",
     "output_type": "stream",
     "text": [
      "C:\\Arunachal PDFs\\Mother_integrated\\Done Files 16-20\\Final excel\\S02A17P25.xlsx\n",
      "C:\\Arunachal PDFs\\Mother_integrated\\Done Files 16-20\\S02A17P26.xlsx\n"
     ]
    },
    {
     "name": "stderr",
     "output_type": "stream",
     "text": [
      "C:\\Users\\Administrator\\AppData\\Local\\Temp\\2\\ipykernel_8492\\1199900709.py:10: FutureWarning: The frame.append method is deprecated and will be removed from pandas in a future version. Use pandas.concat instead.\n",
      "  df = df.append(df1)\n"
     ]
    },
    {
     "name": "stdout",
     "output_type": "stream",
     "text": [
      "C:\\Arunachal PDFs\\Mother_integrated\\Done Files 16-20\\Final excel\\S02A17P26.xlsx\n",
      "C:\\Arunachal PDFs\\Mother_integrated\\Done Files 16-20\\S02A17P27.xlsx\n"
     ]
    },
    {
     "name": "stderr",
     "output_type": "stream",
     "text": [
      "C:\\Users\\Administrator\\AppData\\Local\\Temp\\2\\ipykernel_8492\\1199900709.py:10: FutureWarning: The frame.append method is deprecated and will be removed from pandas in a future version. Use pandas.concat instead.\n",
      "  df = df.append(df1)\n"
     ]
    },
    {
     "name": "stdout",
     "output_type": "stream",
     "text": [
      "C:\\Arunachal PDFs\\Mother_integrated\\Done Files 16-20\\Final excel\\S02A17P27.xlsx\n",
      "C:\\Arunachal PDFs\\Mother_integrated\\Done Files 16-20\\S02A17P28.xlsx\n"
     ]
    },
    {
     "name": "stderr",
     "output_type": "stream",
     "text": [
      "C:\\Users\\Administrator\\AppData\\Local\\Temp\\2\\ipykernel_8492\\1199900709.py:10: FutureWarning: The frame.append method is deprecated and will be removed from pandas in a future version. Use pandas.concat instead.\n",
      "  df = df.append(df1)\n"
     ]
    },
    {
     "name": "stdout",
     "output_type": "stream",
     "text": [
      "C:\\Arunachal PDFs\\Mother_integrated\\Done Files 16-20\\Final excel\\S02A17P28.xlsx\n",
      "C:\\Arunachal PDFs\\Mother_integrated\\Done Files 16-20\\S02A17P29.xlsx\n"
     ]
    },
    {
     "name": "stderr",
     "output_type": "stream",
     "text": [
      "C:\\Users\\Administrator\\AppData\\Local\\Temp\\2\\ipykernel_8492\\1199900709.py:10: FutureWarning: The frame.append method is deprecated and will be removed from pandas in a future version. Use pandas.concat instead.\n",
      "  df = df.append(df1)\n"
     ]
    },
    {
     "name": "stdout",
     "output_type": "stream",
     "text": [
      "C:\\Arunachal PDFs\\Mother_integrated\\Done Files 16-20\\Final excel\\S02A17P29.xlsx\n",
      "C:\\Arunachal PDFs\\Mother_integrated\\Done Files 16-20\\S02A17P3.xlsx\n",
      "AttributeError\n",
      "C:\\Arunachal PDFs\\Mother_integrated\\Done Files 16-20\\S02A17P4.xlsx\n"
     ]
    },
    {
     "name": "stderr",
     "output_type": "stream",
     "text": [
      "C:\\Users\\Administrator\\AppData\\Local\\Temp\\2\\ipykernel_8492\\1199900709.py:10: FutureWarning: The frame.append method is deprecated and will be removed from pandas in a future version. Use pandas.concat instead.\n",
      "  df = df.append(df1)\n"
     ]
    },
    {
     "name": "stdout",
     "output_type": "stream",
     "text": [
      "C:\\Arunachal PDFs\\Mother_integrated\\Done Files 16-20\\Final excel\\S02A17P4.xlsx\n",
      "C:\\Arunachal PDFs\\Mother_integrated\\Done Files 16-20\\S02A17P5.xlsx\n"
     ]
    },
    {
     "name": "stderr",
     "output_type": "stream",
     "text": [
      "C:\\Users\\Administrator\\AppData\\Local\\Temp\\2\\ipykernel_8492\\1199900709.py:10: FutureWarning: The frame.append method is deprecated and will be removed from pandas in a future version. Use pandas.concat instead.\n",
      "  df = df.append(df1)\n"
     ]
    },
    {
     "name": "stdout",
     "output_type": "stream",
     "text": [
      "C:\\Arunachal PDFs\\Mother_integrated\\Done Files 16-20\\Final excel\\S02A17P5.xlsx\n",
      "C:\\Arunachal PDFs\\Mother_integrated\\Done Files 16-20\\S02A17P6.xlsx\n"
     ]
    },
    {
     "name": "stderr",
     "output_type": "stream",
     "text": [
      "C:\\Users\\Administrator\\AppData\\Local\\Temp\\2\\ipykernel_8492\\1199900709.py:10: FutureWarning: The frame.append method is deprecated and will be removed from pandas in a future version. Use pandas.concat instead.\n",
      "  df = df.append(df1)\n"
     ]
    },
    {
     "name": "stdout",
     "output_type": "stream",
     "text": [
      "C:\\Arunachal PDFs\\Mother_integrated\\Done Files 16-20\\Final excel\\S02A17P6.xlsx\n",
      "C:\\Arunachal PDFs\\Mother_integrated\\Done Files 16-20\\S02A17P7.xlsx\n"
     ]
    },
    {
     "name": "stderr",
     "output_type": "stream",
     "text": [
      "C:\\Users\\Administrator\\AppData\\Local\\Temp\\2\\ipykernel_8492\\1199900709.py:10: FutureWarning: The frame.append method is deprecated and will be removed from pandas in a future version. Use pandas.concat instead.\n",
      "  df = df.append(df1)\n"
     ]
    },
    {
     "name": "stdout",
     "output_type": "stream",
     "text": [
      "C:\\Arunachal PDFs\\Mother_integrated\\Done Files 16-20\\Final excel\\S02A17P7.xlsx\n",
      "C:\\Arunachal PDFs\\Mother_integrated\\Done Files 16-20\\S02A17P8.xlsx\n",
      "AttributeError\n",
      "C:\\Arunachal PDFs\\Mother_integrated\\Done Files 16-20\\S02A17P9.xlsx\n"
     ]
    },
    {
     "name": "stderr",
     "output_type": "stream",
     "text": [
      "C:\\Users\\Administrator\\AppData\\Local\\Temp\\2\\ipykernel_8492\\1199900709.py:10: FutureWarning: The frame.append method is deprecated and will be removed from pandas in a future version. Use pandas.concat instead.\n",
      "  df = df.append(df1)\n"
     ]
    },
    {
     "name": "stdout",
     "output_type": "stream",
     "text": [
      "C:\\Arunachal PDFs\\Mother_integrated\\Done Files 16-20\\Final excel\\S02A17P9.xlsx\n",
      "C:\\Arunachal PDFs\\Mother_integrated\\Done Files 16-20\\S02A18P1.xlsx\n"
     ]
    },
    {
     "name": "stderr",
     "output_type": "stream",
     "text": [
      "C:\\Users\\Administrator\\AppData\\Local\\Temp\\2\\ipykernel_8492\\1199900709.py:10: FutureWarning: The frame.append method is deprecated and will be removed from pandas in a future version. Use pandas.concat instead.\n",
      "  df = df.append(df1)\n"
     ]
    },
    {
     "name": "stdout",
     "output_type": "stream",
     "text": [
      "C:\\Arunachal PDFs\\Mother_integrated\\Done Files 16-20\\Final excel\\S02A18P1.xlsx\n",
      "C:\\Arunachal PDFs\\Mother_integrated\\Done Files 16-20\\S02A18P10.xlsx\n"
     ]
    },
    {
     "name": "stderr",
     "output_type": "stream",
     "text": [
      "C:\\Users\\Administrator\\AppData\\Local\\Temp\\2\\ipykernel_8492\\1199900709.py:10: FutureWarning: The frame.append method is deprecated and will be removed from pandas in a future version. Use pandas.concat instead.\n",
      "  df = df.append(df1)\n"
     ]
    },
    {
     "name": "stdout",
     "output_type": "stream",
     "text": [
      "C:\\Arunachal PDFs\\Mother_integrated\\Done Files 16-20\\Final excel\\S02A18P10.xlsx\n",
      "C:\\Arunachal PDFs\\Mother_integrated\\Done Files 16-20\\S02A18P11.xlsx\n"
     ]
    },
    {
     "name": "stderr",
     "output_type": "stream",
     "text": [
      "C:\\Users\\Administrator\\AppData\\Local\\Temp\\2\\ipykernel_8492\\1199900709.py:10: FutureWarning: The frame.append method is deprecated and will be removed from pandas in a future version. Use pandas.concat instead.\n",
      "  df = df.append(df1)\n"
     ]
    },
    {
     "name": "stdout",
     "output_type": "stream",
     "text": [
      "C:\\Arunachal PDFs\\Mother_integrated\\Done Files 16-20\\Final excel\\S02A18P11.xlsx\n",
      "C:\\Arunachal PDFs\\Mother_integrated\\Done Files 16-20\\S02A18P12.xlsx\n"
     ]
    },
    {
     "name": "stderr",
     "output_type": "stream",
     "text": [
      "C:\\Users\\Administrator\\AppData\\Local\\Temp\\2\\ipykernel_8492\\1199900709.py:10: FutureWarning: The frame.append method is deprecated and will be removed from pandas in a future version. Use pandas.concat instead.\n",
      "  df = df.append(df1)\n"
     ]
    },
    {
     "name": "stdout",
     "output_type": "stream",
     "text": [
      "C:\\Arunachal PDFs\\Mother_integrated\\Done Files 16-20\\Final excel\\S02A18P12.xlsx\n",
      "C:\\Arunachal PDFs\\Mother_integrated\\Done Files 16-20\\S02A18P13.xlsx\n"
     ]
    },
    {
     "name": "stderr",
     "output_type": "stream",
     "text": [
      "C:\\Users\\Administrator\\AppData\\Local\\Temp\\2\\ipykernel_8492\\1199900709.py:10: FutureWarning: The frame.append method is deprecated and will be removed from pandas in a future version. Use pandas.concat instead.\n",
      "  df = df.append(df1)\n"
     ]
    },
    {
     "name": "stdout",
     "output_type": "stream",
     "text": [
      "C:\\Arunachal PDFs\\Mother_integrated\\Done Files 16-20\\Final excel\\S02A18P13.xlsx\n",
      "C:\\Arunachal PDFs\\Mother_integrated\\Done Files 16-20\\S02A18P14.xlsx\n"
     ]
    },
    {
     "name": "stderr",
     "output_type": "stream",
     "text": [
      "C:\\Users\\Administrator\\AppData\\Local\\Temp\\2\\ipykernel_8492\\1199900709.py:10: FutureWarning: The frame.append method is deprecated and will be removed from pandas in a future version. Use pandas.concat instead.\n",
      "  df = df.append(df1)\n"
     ]
    },
    {
     "name": "stdout",
     "output_type": "stream",
     "text": [
      "C:\\Arunachal PDFs\\Mother_integrated\\Done Files 16-20\\Final excel\\S02A18P14.xlsx\n",
      "C:\\Arunachal PDFs\\Mother_integrated\\Done Files 16-20\\S02A18P15.xlsx\n"
     ]
    },
    {
     "name": "stderr",
     "output_type": "stream",
     "text": [
      "C:\\Users\\Administrator\\AppData\\Local\\Temp\\2\\ipykernel_8492\\1199900709.py:10: FutureWarning: The frame.append method is deprecated and will be removed from pandas in a future version. Use pandas.concat instead.\n",
      "  df = df.append(df1)\n"
     ]
    },
    {
     "name": "stdout",
     "output_type": "stream",
     "text": [
      "C:\\Arunachal PDFs\\Mother_integrated\\Done Files 16-20\\Final excel\\S02A18P15.xlsx\n",
      "C:\\Arunachal PDFs\\Mother_integrated\\Done Files 16-20\\S02A18P16.xlsx\n"
     ]
    },
    {
     "name": "stderr",
     "output_type": "stream",
     "text": [
      "C:\\Users\\Administrator\\AppData\\Local\\Temp\\2\\ipykernel_8492\\1199900709.py:10: FutureWarning: The frame.append method is deprecated and will be removed from pandas in a future version. Use pandas.concat instead.\n",
      "  df = df.append(df1)\n"
     ]
    },
    {
     "name": "stdout",
     "output_type": "stream",
     "text": [
      "C:\\Arunachal PDFs\\Mother_integrated\\Done Files 16-20\\Final excel\\S02A18P16.xlsx\n",
      "C:\\Arunachal PDFs\\Mother_integrated\\Done Files 16-20\\S02A18P17.xlsx\n"
     ]
    },
    {
     "name": "stderr",
     "output_type": "stream",
     "text": [
      "C:\\Users\\Administrator\\AppData\\Local\\Temp\\2\\ipykernel_8492\\1199900709.py:10: FutureWarning: The frame.append method is deprecated and will be removed from pandas in a future version. Use pandas.concat instead.\n",
      "  df = df.append(df1)\n"
     ]
    },
    {
     "name": "stdout",
     "output_type": "stream",
     "text": [
      "C:\\Arunachal PDFs\\Mother_integrated\\Done Files 16-20\\Final excel\\S02A18P17.xlsx\n",
      "C:\\Arunachal PDFs\\Mother_integrated\\Done Files 16-20\\S02A18P18.xlsx\n"
     ]
    },
    {
     "name": "stderr",
     "output_type": "stream",
     "text": [
      "C:\\Users\\Administrator\\AppData\\Local\\Temp\\2\\ipykernel_8492\\1199900709.py:10: FutureWarning: The frame.append method is deprecated and will be removed from pandas in a future version. Use pandas.concat instead.\n",
      "  df = df.append(df1)\n"
     ]
    },
    {
     "name": "stdout",
     "output_type": "stream",
     "text": [
      "C:\\Arunachal PDFs\\Mother_integrated\\Done Files 16-20\\Final excel\\S02A18P18.xlsx\n",
      "C:\\Arunachal PDFs\\Mother_integrated\\Done Files 16-20\\S02A18P19.xlsx\n"
     ]
    },
    {
     "name": "stderr",
     "output_type": "stream",
     "text": [
      "C:\\Users\\Administrator\\AppData\\Local\\Temp\\2\\ipykernel_8492\\1199900709.py:10: FutureWarning: The frame.append method is deprecated and will be removed from pandas in a future version. Use pandas.concat instead.\n",
      "  df = df.append(df1)\n"
     ]
    },
    {
     "name": "stdout",
     "output_type": "stream",
     "text": [
      "C:\\Arunachal PDFs\\Mother_integrated\\Done Files 16-20\\Final excel\\S02A18P19.xlsx\n",
      "C:\\Arunachal PDFs\\Mother_integrated\\Done Files 16-20\\S02A18P2.xlsx\n"
     ]
    },
    {
     "name": "stderr",
     "output_type": "stream",
     "text": [
      "C:\\Users\\Administrator\\AppData\\Local\\Temp\\2\\ipykernel_8492\\1199900709.py:10: FutureWarning: The frame.append method is deprecated and will be removed from pandas in a future version. Use pandas.concat instead.\n",
      "  df = df.append(df1)\n"
     ]
    },
    {
     "name": "stdout",
     "output_type": "stream",
     "text": [
      "C:\\Arunachal PDFs\\Mother_integrated\\Done Files 16-20\\Final excel\\S02A18P2.xlsx\n",
      "C:\\Arunachal PDFs\\Mother_integrated\\Done Files 16-20\\S02A18P20.xlsx\n"
     ]
    },
    {
     "name": "stderr",
     "output_type": "stream",
     "text": [
      "C:\\Users\\Administrator\\AppData\\Local\\Temp\\2\\ipykernel_8492\\1199900709.py:10: FutureWarning: The frame.append method is deprecated and will be removed from pandas in a future version. Use pandas.concat instead.\n",
      "  df = df.append(df1)\n"
     ]
    },
    {
     "name": "stdout",
     "output_type": "stream",
     "text": [
      "C:\\Arunachal PDFs\\Mother_integrated\\Done Files 16-20\\Final excel\\S02A18P20.xlsx\n",
      "C:\\Arunachal PDFs\\Mother_integrated\\Done Files 16-20\\S02A18P21.xlsx\n"
     ]
    },
    {
     "name": "stderr",
     "output_type": "stream",
     "text": [
      "C:\\Users\\Administrator\\AppData\\Local\\Temp\\2\\ipykernel_8492\\1199900709.py:10: FutureWarning: The frame.append method is deprecated and will be removed from pandas in a future version. Use pandas.concat instead.\n",
      "  df = df.append(df1)\n"
     ]
    },
    {
     "name": "stdout",
     "output_type": "stream",
     "text": [
      "C:\\Arunachal PDFs\\Mother_integrated\\Done Files 16-20\\Final excel\\S02A18P21.xlsx\n",
      "C:\\Arunachal PDFs\\Mother_integrated\\Done Files 16-20\\S02A18P22.xlsx\n"
     ]
    },
    {
     "name": "stderr",
     "output_type": "stream",
     "text": [
      "C:\\Users\\Administrator\\AppData\\Local\\Temp\\2\\ipykernel_8492\\1199900709.py:10: FutureWarning: The frame.append method is deprecated and will be removed from pandas in a future version. Use pandas.concat instead.\n",
      "  df = df.append(df1)\n"
     ]
    },
    {
     "name": "stdout",
     "output_type": "stream",
     "text": [
      "C:\\Arunachal PDFs\\Mother_integrated\\Done Files 16-20\\Final excel\\S02A18P22.xlsx\n",
      "C:\\Arunachal PDFs\\Mother_integrated\\Done Files 16-20\\S02A18P23.xlsx\n"
     ]
    },
    {
     "name": "stderr",
     "output_type": "stream",
     "text": [
      "C:\\Users\\Administrator\\AppData\\Local\\Temp\\2\\ipykernel_8492\\1199900709.py:10: FutureWarning: The frame.append method is deprecated and will be removed from pandas in a future version. Use pandas.concat instead.\n",
      "  df = df.append(df1)\n"
     ]
    },
    {
     "name": "stdout",
     "output_type": "stream",
     "text": [
      "C:\\Arunachal PDFs\\Mother_integrated\\Done Files 16-20\\Final excel\\S02A18P23.xlsx\n",
      "C:\\Arunachal PDFs\\Mother_integrated\\Done Files 16-20\\S02A18P24.xlsx\n"
     ]
    },
    {
     "name": "stderr",
     "output_type": "stream",
     "text": [
      "C:\\Users\\Administrator\\AppData\\Local\\Temp\\2\\ipykernel_8492\\1199900709.py:10: FutureWarning: The frame.append method is deprecated and will be removed from pandas in a future version. Use pandas.concat instead.\n",
      "  df = df.append(df1)\n"
     ]
    },
    {
     "name": "stdout",
     "output_type": "stream",
     "text": [
      "C:\\Arunachal PDFs\\Mother_integrated\\Done Files 16-20\\Final excel\\S02A18P24.xlsx\n",
      "C:\\Arunachal PDFs\\Mother_integrated\\Done Files 16-20\\S02A18P25.xlsx\n"
     ]
    },
    {
     "name": "stderr",
     "output_type": "stream",
     "text": [
      "C:\\Users\\Administrator\\AppData\\Local\\Temp\\2\\ipykernel_8492\\1199900709.py:10: FutureWarning: The frame.append method is deprecated and will be removed from pandas in a future version. Use pandas.concat instead.\n",
      "  df = df.append(df1)\n"
     ]
    },
    {
     "name": "stdout",
     "output_type": "stream",
     "text": [
      "C:\\Arunachal PDFs\\Mother_integrated\\Done Files 16-20\\Final excel\\S02A18P25.xlsx\n",
      "C:\\Arunachal PDFs\\Mother_integrated\\Done Files 16-20\\S02A18P26.xlsx\n"
     ]
    },
    {
     "name": "stderr",
     "output_type": "stream",
     "text": [
      "C:\\Users\\Administrator\\AppData\\Local\\Temp\\2\\ipykernel_8492\\1199900709.py:10: FutureWarning: The frame.append method is deprecated and will be removed from pandas in a future version. Use pandas.concat instead.\n",
      "  df = df.append(df1)\n"
     ]
    },
    {
     "name": "stdout",
     "output_type": "stream",
     "text": [
      "C:\\Arunachal PDFs\\Mother_integrated\\Done Files 16-20\\Final excel\\S02A18P26.xlsx\n",
      "C:\\Arunachal PDFs\\Mother_integrated\\Done Files 16-20\\S02A18P27.xlsx\n"
     ]
    },
    {
     "name": "stderr",
     "output_type": "stream",
     "text": [
      "C:\\Users\\Administrator\\AppData\\Local\\Temp\\2\\ipykernel_8492\\1199900709.py:10: FutureWarning: The frame.append method is deprecated and will be removed from pandas in a future version. Use pandas.concat instead.\n",
      "  df = df.append(df1)\n"
     ]
    },
    {
     "name": "stdout",
     "output_type": "stream",
     "text": [
      "C:\\Arunachal PDFs\\Mother_integrated\\Done Files 16-20\\Final excel\\S02A18P27.xlsx\n",
      "C:\\Arunachal PDFs\\Mother_integrated\\Done Files 16-20\\S02A18P28.xlsx\n"
     ]
    },
    {
     "name": "stderr",
     "output_type": "stream",
     "text": [
      "C:\\Users\\Administrator\\AppData\\Local\\Temp\\2\\ipykernel_8492\\1199900709.py:10: FutureWarning: The frame.append method is deprecated and will be removed from pandas in a future version. Use pandas.concat instead.\n",
      "  df = df.append(df1)\n"
     ]
    },
    {
     "name": "stdout",
     "output_type": "stream",
     "text": [
      "C:\\Arunachal PDFs\\Mother_integrated\\Done Files 16-20\\Final excel\\S02A18P28.xlsx\n",
      "C:\\Arunachal PDFs\\Mother_integrated\\Done Files 16-20\\S02A18P29.xlsx\n"
     ]
    },
    {
     "name": "stderr",
     "output_type": "stream",
     "text": [
      "C:\\Users\\Administrator\\AppData\\Local\\Temp\\2\\ipykernel_8492\\1199900709.py:10: FutureWarning: The frame.append method is deprecated and will be removed from pandas in a future version. Use pandas.concat instead.\n",
      "  df = df.append(df1)\n"
     ]
    },
    {
     "name": "stdout",
     "output_type": "stream",
     "text": [
      "C:\\Arunachal PDFs\\Mother_integrated\\Done Files 16-20\\Final excel\\S02A18P29.xlsx\n",
      "C:\\Arunachal PDFs\\Mother_integrated\\Done Files 16-20\\S02A18P3.xlsx\n"
     ]
    },
    {
     "name": "stderr",
     "output_type": "stream",
     "text": [
      "C:\\Users\\Administrator\\AppData\\Local\\Temp\\2\\ipykernel_8492\\1199900709.py:10: FutureWarning: The frame.append method is deprecated and will be removed from pandas in a future version. Use pandas.concat instead.\n",
      "  df = df.append(df1)\n"
     ]
    },
    {
     "name": "stdout",
     "output_type": "stream",
     "text": [
      "C:\\Arunachal PDFs\\Mother_integrated\\Done Files 16-20\\Final excel\\S02A18P3.xlsx\n",
      "C:\\Arunachal PDFs\\Mother_integrated\\Done Files 16-20\\S02A18P30.xlsx\n"
     ]
    },
    {
     "name": "stderr",
     "output_type": "stream",
     "text": [
      "C:\\Users\\Administrator\\AppData\\Local\\Temp\\2\\ipykernel_8492\\1199900709.py:10: FutureWarning: The frame.append method is deprecated and will be removed from pandas in a future version. Use pandas.concat instead.\n",
      "  df = df.append(df1)\n"
     ]
    },
    {
     "name": "stdout",
     "output_type": "stream",
     "text": [
      "C:\\Arunachal PDFs\\Mother_integrated\\Done Files 16-20\\Final excel\\S02A18P30.xlsx\n",
      "C:\\Arunachal PDFs\\Mother_integrated\\Done Files 16-20\\S02A18P31.xlsx\n"
     ]
    },
    {
     "name": "stderr",
     "output_type": "stream",
     "text": [
      "C:\\Users\\Administrator\\AppData\\Local\\Temp\\2\\ipykernel_8492\\1199900709.py:10: FutureWarning: The frame.append method is deprecated and will be removed from pandas in a future version. Use pandas.concat instead.\n",
      "  df = df.append(df1)\n"
     ]
    },
    {
     "name": "stdout",
     "output_type": "stream",
     "text": [
      "C:\\Arunachal PDFs\\Mother_integrated\\Done Files 16-20\\Final excel\\S02A18P31.xlsx\n",
      "C:\\Arunachal PDFs\\Mother_integrated\\Done Files 16-20\\S02A18P32.xlsx\n",
      "AttributeError\n",
      "C:\\Arunachal PDFs\\Mother_integrated\\Done Files 16-20\\S02A18P33.xlsx\n"
     ]
    },
    {
     "name": "stderr",
     "output_type": "stream",
     "text": [
      "C:\\Users\\Administrator\\AppData\\Local\\Temp\\2\\ipykernel_8492\\1199900709.py:10: FutureWarning: The frame.append method is deprecated and will be removed from pandas in a future version. Use pandas.concat instead.\n",
      "  df = df.append(df1)\n"
     ]
    },
    {
     "name": "stdout",
     "output_type": "stream",
     "text": [
      "C:\\Arunachal PDFs\\Mother_integrated\\Done Files 16-20\\Final excel\\S02A18P33.xlsx\n",
      "C:\\Arunachal PDFs\\Mother_integrated\\Done Files 16-20\\S02A18P34.xlsx\n",
      "AttributeError\n",
      "C:\\Arunachal PDFs\\Mother_integrated\\Done Files 16-20\\S02A18P35.xlsx\n"
     ]
    },
    {
     "name": "stderr",
     "output_type": "stream",
     "text": [
      "C:\\Users\\Administrator\\AppData\\Local\\Temp\\2\\ipykernel_8492\\1199900709.py:10: FutureWarning: The frame.append method is deprecated and will be removed from pandas in a future version. Use pandas.concat instead.\n",
      "  df = df.append(df1)\n"
     ]
    },
    {
     "name": "stdout",
     "output_type": "stream",
     "text": [
      "C:\\Arunachal PDFs\\Mother_integrated\\Done Files 16-20\\Final excel\\S02A18P35.xlsx\n",
      "C:\\Arunachal PDFs\\Mother_integrated\\Done Files 16-20\\S02A18P36.xlsx\n"
     ]
    },
    {
     "name": "stderr",
     "output_type": "stream",
     "text": [
      "C:\\Users\\Administrator\\AppData\\Local\\Temp\\2\\ipykernel_8492\\1199900709.py:10: FutureWarning: The frame.append method is deprecated and will be removed from pandas in a future version. Use pandas.concat instead.\n",
      "  df = df.append(df1)\n"
     ]
    },
    {
     "name": "stdout",
     "output_type": "stream",
     "text": [
      "C:\\Arunachal PDFs\\Mother_integrated\\Done Files 16-20\\Final excel\\S02A18P36.xlsx\n",
      "C:\\Arunachal PDFs\\Mother_integrated\\Done Files 16-20\\S02A18P37.xlsx\n"
     ]
    },
    {
     "name": "stderr",
     "output_type": "stream",
     "text": [
      "C:\\Users\\Administrator\\AppData\\Local\\Temp\\2\\ipykernel_8492\\1199900709.py:10: FutureWarning: The frame.append method is deprecated and will be removed from pandas in a future version. Use pandas.concat instead.\n",
      "  df = df.append(df1)\n"
     ]
    },
    {
     "name": "stdout",
     "output_type": "stream",
     "text": [
      "C:\\Arunachal PDFs\\Mother_integrated\\Done Files 16-20\\Final excel\\S02A18P37.xlsx\n",
      "C:\\Arunachal PDFs\\Mother_integrated\\Done Files 16-20\\S02A18P38.xlsx\n"
     ]
    },
    {
     "name": "stderr",
     "output_type": "stream",
     "text": [
      "C:\\Users\\Administrator\\AppData\\Local\\Temp\\2\\ipykernel_8492\\1199900709.py:10: FutureWarning: The frame.append method is deprecated and will be removed from pandas in a future version. Use pandas.concat instead.\n",
      "  df = df.append(df1)\n"
     ]
    },
    {
     "name": "stdout",
     "output_type": "stream",
     "text": [
      "C:\\Arunachal PDFs\\Mother_integrated\\Done Files 16-20\\Final excel\\S02A18P38.xlsx\n",
      "C:\\Arunachal PDFs\\Mother_integrated\\Done Files 16-20\\S02A18P39.xlsx\n"
     ]
    },
    {
     "name": "stderr",
     "output_type": "stream",
     "text": [
      "C:\\Users\\Administrator\\AppData\\Local\\Temp\\2\\ipykernel_8492\\1199900709.py:10: FutureWarning: The frame.append method is deprecated and will be removed from pandas in a future version. Use pandas.concat instead.\n",
      "  df = df.append(df1)\n"
     ]
    },
    {
     "name": "stdout",
     "output_type": "stream",
     "text": [
      "C:\\Arunachal PDFs\\Mother_integrated\\Done Files 16-20\\Final excel\\S02A18P39.xlsx\n",
      "C:\\Arunachal PDFs\\Mother_integrated\\Done Files 16-20\\S02A18P4.xlsx\n"
     ]
    },
    {
     "name": "stderr",
     "output_type": "stream",
     "text": [
      "C:\\Users\\Administrator\\AppData\\Local\\Temp\\2\\ipykernel_8492\\1199900709.py:10: FutureWarning: The frame.append method is deprecated and will be removed from pandas in a future version. Use pandas.concat instead.\n",
      "  df = df.append(df1)\n"
     ]
    },
    {
     "name": "stdout",
     "output_type": "stream",
     "text": [
      "C:\\Arunachal PDFs\\Mother_integrated\\Done Files 16-20\\Final excel\\S02A18P4.xlsx\n",
      "C:\\Arunachal PDFs\\Mother_integrated\\Done Files 16-20\\S02A18P40.xlsx\n"
     ]
    },
    {
     "name": "stderr",
     "output_type": "stream",
     "text": [
      "C:\\Users\\Administrator\\AppData\\Local\\Temp\\2\\ipykernel_8492\\1199900709.py:10: FutureWarning: The frame.append method is deprecated and will be removed from pandas in a future version. Use pandas.concat instead.\n",
      "  df = df.append(df1)\n"
     ]
    },
    {
     "name": "stdout",
     "output_type": "stream",
     "text": [
      "C:\\Arunachal PDFs\\Mother_integrated\\Done Files 16-20\\Final excel\\S02A18P40.xlsx\n",
      "C:\\Arunachal PDFs\\Mother_integrated\\Done Files 16-20\\S02A18P41.xlsx\n"
     ]
    },
    {
     "name": "stderr",
     "output_type": "stream",
     "text": [
      "C:\\Users\\Administrator\\AppData\\Local\\Temp\\2\\ipykernel_8492\\1199900709.py:10: FutureWarning: The frame.append method is deprecated and will be removed from pandas in a future version. Use pandas.concat instead.\n",
      "  df = df.append(df1)\n"
     ]
    },
    {
     "name": "stdout",
     "output_type": "stream",
     "text": [
      "C:\\Arunachal PDFs\\Mother_integrated\\Done Files 16-20\\Final excel\\S02A18P41.xlsx\n",
      "C:\\Arunachal PDFs\\Mother_integrated\\Done Files 16-20\\S02A18P5.xlsx\n",
      "AttributeError\n",
      "C:\\Arunachal PDFs\\Mother_integrated\\Done Files 16-20\\S02A18P6.xlsx\n"
     ]
    },
    {
     "name": "stderr",
     "output_type": "stream",
     "text": [
      "C:\\Users\\Administrator\\AppData\\Local\\Temp\\2\\ipykernel_8492\\1199900709.py:10: FutureWarning: The frame.append method is deprecated and will be removed from pandas in a future version. Use pandas.concat instead.\n",
      "  df = df.append(df1)\n"
     ]
    },
    {
     "name": "stdout",
     "output_type": "stream",
     "text": [
      "C:\\Arunachal PDFs\\Mother_integrated\\Done Files 16-20\\Final excel\\S02A18P6.xlsx\n",
      "C:\\Arunachal PDFs\\Mother_integrated\\Done Files 16-20\\S02A18P7.xlsx\n"
     ]
    },
    {
     "name": "stderr",
     "output_type": "stream",
     "text": [
      "C:\\Users\\Administrator\\AppData\\Local\\Temp\\2\\ipykernel_8492\\1199900709.py:10: FutureWarning: The frame.append method is deprecated and will be removed from pandas in a future version. Use pandas.concat instead.\n",
      "  df = df.append(df1)\n"
     ]
    },
    {
     "name": "stdout",
     "output_type": "stream",
     "text": [
      "C:\\Arunachal PDFs\\Mother_integrated\\Done Files 16-20\\Final excel\\S02A18P7.xlsx\n",
      "C:\\Arunachal PDFs\\Mother_integrated\\Done Files 16-20\\S02A18P8.xlsx\n"
     ]
    },
    {
     "name": "stderr",
     "output_type": "stream",
     "text": [
      "C:\\Users\\Administrator\\AppData\\Local\\Temp\\2\\ipykernel_8492\\1199900709.py:10: FutureWarning: The frame.append method is deprecated and will be removed from pandas in a future version. Use pandas.concat instead.\n",
      "  df = df.append(df1)\n"
     ]
    },
    {
     "name": "stdout",
     "output_type": "stream",
     "text": [
      "C:\\Arunachal PDFs\\Mother_integrated\\Done Files 16-20\\Final excel\\S02A18P8.xlsx\n",
      "C:\\Arunachal PDFs\\Mother_integrated\\Done Files 16-20\\S02A18P9.xlsx\n"
     ]
    },
    {
     "name": "stderr",
     "output_type": "stream",
     "text": [
      "C:\\Users\\Administrator\\AppData\\Local\\Temp\\2\\ipykernel_8492\\1199900709.py:10: FutureWarning: The frame.append method is deprecated and will be removed from pandas in a future version. Use pandas.concat instead.\n",
      "  df = df.append(df1)\n"
     ]
    },
    {
     "name": "stdout",
     "output_type": "stream",
     "text": [
      "C:\\Arunachal PDFs\\Mother_integrated\\Done Files 16-20\\Final excel\\S02A18P9.xlsx\n",
      "C:\\Arunachal PDFs\\Mother_integrated\\Done Files 16-20\\S02A19P1.xlsx\n"
     ]
    },
    {
     "name": "stderr",
     "output_type": "stream",
     "text": [
      "C:\\Users\\Administrator\\AppData\\Local\\Temp\\2\\ipykernel_8492\\1199900709.py:10: FutureWarning: The frame.append method is deprecated and will be removed from pandas in a future version. Use pandas.concat instead.\n",
      "  df = df.append(df1)\n"
     ]
    },
    {
     "name": "stdout",
     "output_type": "stream",
     "text": [
      "C:\\Arunachal PDFs\\Mother_integrated\\Done Files 16-20\\Final excel\\S02A19P1.xlsx\n",
      "C:\\Arunachal PDFs\\Mother_integrated\\Done Files 16-20\\S02A19P10.xlsx\n"
     ]
    },
    {
     "name": "stderr",
     "output_type": "stream",
     "text": [
      "C:\\Users\\Administrator\\AppData\\Local\\Temp\\2\\ipykernel_8492\\1199900709.py:10: FutureWarning: The frame.append method is deprecated and will be removed from pandas in a future version. Use pandas.concat instead.\n",
      "  df = df.append(df1)\n"
     ]
    },
    {
     "name": "stdout",
     "output_type": "stream",
     "text": [
      "C:\\Arunachal PDFs\\Mother_integrated\\Done Files 16-20\\Final excel\\S02A19P10.xlsx\n",
      "C:\\Arunachal PDFs\\Mother_integrated\\Done Files 16-20\\S02A19P11.xlsx\n"
     ]
    },
    {
     "name": "stderr",
     "output_type": "stream",
     "text": [
      "C:\\Users\\Administrator\\AppData\\Local\\Temp\\2\\ipykernel_8492\\1199900709.py:10: FutureWarning: The frame.append method is deprecated and will be removed from pandas in a future version. Use pandas.concat instead.\n",
      "  df = df.append(df1)\n"
     ]
    },
    {
     "name": "stdout",
     "output_type": "stream",
     "text": [
      "C:\\Arunachal PDFs\\Mother_integrated\\Done Files 16-20\\Final excel\\S02A19P11.xlsx\n",
      "C:\\Arunachal PDFs\\Mother_integrated\\Done Files 16-20\\S02A19P12.xlsx\n"
     ]
    },
    {
     "name": "stderr",
     "output_type": "stream",
     "text": [
      "C:\\Users\\Administrator\\AppData\\Local\\Temp\\2\\ipykernel_8492\\1199900709.py:10: FutureWarning: The frame.append method is deprecated and will be removed from pandas in a future version. Use pandas.concat instead.\n",
      "  df = df.append(df1)\n"
     ]
    },
    {
     "name": "stdout",
     "output_type": "stream",
     "text": [
      "C:\\Arunachal PDFs\\Mother_integrated\\Done Files 16-20\\Final excel\\S02A19P12.xlsx\n",
      "C:\\Arunachal PDFs\\Mother_integrated\\Done Files 16-20\\S02A19P13.xlsx\n"
     ]
    },
    {
     "name": "stderr",
     "output_type": "stream",
     "text": [
      "C:\\Users\\Administrator\\AppData\\Local\\Temp\\2\\ipykernel_8492\\1199900709.py:10: FutureWarning: The frame.append method is deprecated and will be removed from pandas in a future version. Use pandas.concat instead.\n",
      "  df = df.append(df1)\n"
     ]
    },
    {
     "name": "stdout",
     "output_type": "stream",
     "text": [
      "C:\\Arunachal PDFs\\Mother_integrated\\Done Files 16-20\\Final excel\\S02A19P13.xlsx\n",
      "C:\\Arunachal PDFs\\Mother_integrated\\Done Files 16-20\\S02A19P14.xlsx\n"
     ]
    },
    {
     "name": "stderr",
     "output_type": "stream",
     "text": [
      "C:\\Users\\Administrator\\AppData\\Local\\Temp\\2\\ipykernel_8492\\1199900709.py:10: FutureWarning: The frame.append method is deprecated and will be removed from pandas in a future version. Use pandas.concat instead.\n",
      "  df = df.append(df1)\n"
     ]
    },
    {
     "name": "stdout",
     "output_type": "stream",
     "text": [
      "C:\\Arunachal PDFs\\Mother_integrated\\Done Files 16-20\\Final excel\\S02A19P14.xlsx\n",
      "C:\\Arunachal PDFs\\Mother_integrated\\Done Files 16-20\\S02A19P15.xlsx\n"
     ]
    },
    {
     "name": "stderr",
     "output_type": "stream",
     "text": [
      "C:\\Users\\Administrator\\AppData\\Local\\Temp\\2\\ipykernel_8492\\1199900709.py:10: FutureWarning: The frame.append method is deprecated and will be removed from pandas in a future version. Use pandas.concat instead.\n",
      "  df = df.append(df1)\n"
     ]
    },
    {
     "name": "stdout",
     "output_type": "stream",
     "text": [
      "C:\\Arunachal PDFs\\Mother_integrated\\Done Files 16-20\\Final excel\\S02A19P15.xlsx\n",
      "C:\\Arunachal PDFs\\Mother_integrated\\Done Files 16-20\\S02A19P16.xlsx\n",
      "AttributeError\n",
      "C:\\Arunachal PDFs\\Mother_integrated\\Done Files 16-20\\S02A19P17.xlsx\n"
     ]
    },
    {
     "name": "stderr",
     "output_type": "stream",
     "text": [
      "C:\\Users\\Administrator\\AppData\\Local\\Temp\\2\\ipykernel_8492\\1199900709.py:10: FutureWarning: The frame.append method is deprecated and will be removed from pandas in a future version. Use pandas.concat instead.\n",
      "  df = df.append(df1)\n"
     ]
    },
    {
     "name": "stdout",
     "output_type": "stream",
     "text": [
      "C:\\Arunachal PDFs\\Mother_integrated\\Done Files 16-20\\Final excel\\S02A19P17.xlsx\n",
      "C:\\Arunachal PDFs\\Mother_integrated\\Done Files 16-20\\S02A19P18.xlsx\n"
     ]
    },
    {
     "name": "stderr",
     "output_type": "stream",
     "text": [
      "C:\\Users\\Administrator\\AppData\\Local\\Temp\\2\\ipykernel_8492\\1199900709.py:10: FutureWarning: The frame.append method is deprecated and will be removed from pandas in a future version. Use pandas.concat instead.\n",
      "  df = df.append(df1)\n"
     ]
    },
    {
     "name": "stdout",
     "output_type": "stream",
     "text": [
      "C:\\Arunachal PDFs\\Mother_integrated\\Done Files 16-20\\Final excel\\S02A19P18.xlsx\n",
      "C:\\Arunachal PDFs\\Mother_integrated\\Done Files 16-20\\S02A19P19.xlsx\n"
     ]
    },
    {
     "name": "stderr",
     "output_type": "stream",
     "text": [
      "C:\\Users\\Administrator\\AppData\\Local\\Temp\\2\\ipykernel_8492\\1199900709.py:10: FutureWarning: The frame.append method is deprecated and will be removed from pandas in a future version. Use pandas.concat instead.\n",
      "  df = df.append(df1)\n"
     ]
    },
    {
     "name": "stdout",
     "output_type": "stream",
     "text": [
      "C:\\Arunachal PDFs\\Mother_integrated\\Done Files 16-20\\Final excel\\S02A19P19.xlsx\n",
      "C:\\Arunachal PDFs\\Mother_integrated\\Done Files 16-20\\S02A19P2.xlsx\n"
     ]
    },
    {
     "name": "stderr",
     "output_type": "stream",
     "text": [
      "C:\\Users\\Administrator\\AppData\\Local\\Temp\\2\\ipykernel_8492\\1199900709.py:10: FutureWarning: The frame.append method is deprecated and will be removed from pandas in a future version. Use pandas.concat instead.\n",
      "  df = df.append(df1)\n"
     ]
    },
    {
     "name": "stdout",
     "output_type": "stream",
     "text": [
      "C:\\Arunachal PDFs\\Mother_integrated\\Done Files 16-20\\Final excel\\S02A19P2.xlsx\n",
      "C:\\Arunachal PDFs\\Mother_integrated\\Done Files 16-20\\S02A19P20.xlsx\n"
     ]
    },
    {
     "name": "stderr",
     "output_type": "stream",
     "text": [
      "C:\\Users\\Administrator\\AppData\\Local\\Temp\\2\\ipykernel_8492\\1199900709.py:10: FutureWarning: The frame.append method is deprecated and will be removed from pandas in a future version. Use pandas.concat instead.\n",
      "  df = df.append(df1)\n"
     ]
    },
    {
     "name": "stdout",
     "output_type": "stream",
     "text": [
      "C:\\Arunachal PDFs\\Mother_integrated\\Done Files 16-20\\Final excel\\S02A19P20.xlsx\n",
      "C:\\Arunachal PDFs\\Mother_integrated\\Done Files 16-20\\S02A19P21.xlsx\n"
     ]
    },
    {
     "name": "stderr",
     "output_type": "stream",
     "text": [
      "C:\\Users\\Administrator\\AppData\\Local\\Temp\\2\\ipykernel_8492\\1199900709.py:10: FutureWarning: The frame.append method is deprecated and will be removed from pandas in a future version. Use pandas.concat instead.\n",
      "  df = df.append(df1)\n"
     ]
    },
    {
     "name": "stdout",
     "output_type": "stream",
     "text": [
      "C:\\Arunachal PDFs\\Mother_integrated\\Done Files 16-20\\Final excel\\S02A19P21.xlsx\n",
      "C:\\Arunachal PDFs\\Mother_integrated\\Done Files 16-20\\S02A19P22.xlsx\n"
     ]
    },
    {
     "name": "stderr",
     "output_type": "stream",
     "text": [
      "C:\\Users\\Administrator\\AppData\\Local\\Temp\\2\\ipykernel_8492\\1199900709.py:10: FutureWarning: The frame.append method is deprecated and will be removed from pandas in a future version. Use pandas.concat instead.\n",
      "  df = df.append(df1)\n"
     ]
    },
    {
     "name": "stdout",
     "output_type": "stream",
     "text": [
      "C:\\Arunachal PDFs\\Mother_integrated\\Done Files 16-20\\Final excel\\S02A19P22.xlsx\n",
      "C:\\Arunachal PDFs\\Mother_integrated\\Done Files 16-20\\S02A19P23.xlsx\n"
     ]
    },
    {
     "name": "stderr",
     "output_type": "stream",
     "text": [
      "C:\\Users\\Administrator\\AppData\\Local\\Temp\\2\\ipykernel_8492\\1199900709.py:10: FutureWarning: The frame.append method is deprecated and will be removed from pandas in a future version. Use pandas.concat instead.\n",
      "  df = df.append(df1)\n"
     ]
    },
    {
     "name": "stdout",
     "output_type": "stream",
     "text": [
      "C:\\Arunachal PDFs\\Mother_integrated\\Done Files 16-20\\Final excel\\S02A19P23.xlsx\n",
      "C:\\Arunachal PDFs\\Mother_integrated\\Done Files 16-20\\S02A19P24.xlsx\n"
     ]
    },
    {
     "name": "stderr",
     "output_type": "stream",
     "text": [
      "C:\\Users\\Administrator\\AppData\\Local\\Temp\\2\\ipykernel_8492\\1199900709.py:10: FutureWarning: The frame.append method is deprecated and will be removed from pandas in a future version. Use pandas.concat instead.\n",
      "  df = df.append(df1)\n"
     ]
    },
    {
     "name": "stdout",
     "output_type": "stream",
     "text": [
      "C:\\Arunachal PDFs\\Mother_integrated\\Done Files 16-20\\Final excel\\S02A19P24.xlsx\n",
      "C:\\Arunachal PDFs\\Mother_integrated\\Done Files 16-20\\S02A19P25.xlsx\n"
     ]
    },
    {
     "name": "stderr",
     "output_type": "stream",
     "text": [
      "C:\\Users\\Administrator\\AppData\\Local\\Temp\\2\\ipykernel_8492\\1199900709.py:10: FutureWarning: The frame.append method is deprecated and will be removed from pandas in a future version. Use pandas.concat instead.\n",
      "  df = df.append(df1)\n"
     ]
    },
    {
     "name": "stdout",
     "output_type": "stream",
     "text": [
      "C:\\Arunachal PDFs\\Mother_integrated\\Done Files 16-20\\Final excel\\S02A19P25.xlsx\n",
      "C:\\Arunachal PDFs\\Mother_integrated\\Done Files 16-20\\S02A19P26.xlsx\n"
     ]
    },
    {
     "name": "stderr",
     "output_type": "stream",
     "text": [
      "C:\\Users\\Administrator\\AppData\\Local\\Temp\\2\\ipykernel_8492\\1199900709.py:10: FutureWarning: The frame.append method is deprecated and will be removed from pandas in a future version. Use pandas.concat instead.\n",
      "  df = df.append(df1)\n"
     ]
    },
    {
     "name": "stdout",
     "output_type": "stream",
     "text": [
      "C:\\Arunachal PDFs\\Mother_integrated\\Done Files 16-20\\Final excel\\S02A19P26.xlsx\n",
      "C:\\Arunachal PDFs\\Mother_integrated\\Done Files 16-20\\S02A19P27.xlsx\n"
     ]
    },
    {
     "name": "stderr",
     "output_type": "stream",
     "text": [
      "C:\\Users\\Administrator\\AppData\\Local\\Temp\\2\\ipykernel_8492\\1199900709.py:10: FutureWarning: The frame.append method is deprecated and will be removed from pandas in a future version. Use pandas.concat instead.\n",
      "  df = df.append(df1)\n"
     ]
    },
    {
     "name": "stdout",
     "output_type": "stream",
     "text": [
      "C:\\Arunachal PDFs\\Mother_integrated\\Done Files 16-20\\Final excel\\S02A19P27.xlsx\n",
      "C:\\Arunachal PDFs\\Mother_integrated\\Done Files 16-20\\S02A19P28.xlsx\n"
     ]
    },
    {
     "name": "stderr",
     "output_type": "stream",
     "text": [
      "C:\\Users\\Administrator\\AppData\\Local\\Temp\\2\\ipykernel_8492\\1199900709.py:10: FutureWarning: The frame.append method is deprecated and will be removed from pandas in a future version. Use pandas.concat instead.\n",
      "  df = df.append(df1)\n"
     ]
    },
    {
     "name": "stdout",
     "output_type": "stream",
     "text": [
      "C:\\Arunachal PDFs\\Mother_integrated\\Done Files 16-20\\Final excel\\S02A19P28.xlsx\n",
      "C:\\Arunachal PDFs\\Mother_integrated\\Done Files 16-20\\S02A19P29.xlsx\n",
      "AttributeError\n",
      "C:\\Arunachal PDFs\\Mother_integrated\\Done Files 16-20\\S02A19P3.xlsx\n"
     ]
    },
    {
     "name": "stderr",
     "output_type": "stream",
     "text": [
      "C:\\Users\\Administrator\\AppData\\Local\\Temp\\2\\ipykernel_8492\\1199900709.py:10: FutureWarning: The frame.append method is deprecated and will be removed from pandas in a future version. Use pandas.concat instead.\n",
      "  df = df.append(df1)\n"
     ]
    },
    {
     "name": "stdout",
     "output_type": "stream",
     "text": [
      "C:\\Arunachal PDFs\\Mother_integrated\\Done Files 16-20\\Final excel\\S02A19P3.xlsx\n",
      "C:\\Arunachal PDFs\\Mother_integrated\\Done Files 16-20\\S02A19P30.xlsx\n"
     ]
    },
    {
     "name": "stderr",
     "output_type": "stream",
     "text": [
      "C:\\Users\\Administrator\\AppData\\Local\\Temp\\2\\ipykernel_8492\\1199900709.py:10: FutureWarning: The frame.append method is deprecated and will be removed from pandas in a future version. Use pandas.concat instead.\n",
      "  df = df.append(df1)\n"
     ]
    },
    {
     "name": "stdout",
     "output_type": "stream",
     "text": [
      "C:\\Arunachal PDFs\\Mother_integrated\\Done Files 16-20\\Final excel\\S02A19P30.xlsx\n",
      "C:\\Arunachal PDFs\\Mother_integrated\\Done Files 16-20\\S02A19P31.xlsx\n"
     ]
    },
    {
     "name": "stderr",
     "output_type": "stream",
     "text": [
      "C:\\Users\\Administrator\\AppData\\Local\\Temp\\2\\ipykernel_8492\\1199900709.py:10: FutureWarning: The frame.append method is deprecated and will be removed from pandas in a future version. Use pandas.concat instead.\n",
      "  df = df.append(df1)\n"
     ]
    },
    {
     "name": "stdout",
     "output_type": "stream",
     "text": [
      "C:\\Arunachal PDFs\\Mother_integrated\\Done Files 16-20\\Final excel\\S02A19P31.xlsx\n",
      "C:\\Arunachal PDFs\\Mother_integrated\\Done Files 16-20\\S02A19P32.xlsx\n"
     ]
    },
    {
     "name": "stderr",
     "output_type": "stream",
     "text": [
      "C:\\Users\\Administrator\\AppData\\Local\\Temp\\2\\ipykernel_8492\\1199900709.py:10: FutureWarning: The frame.append method is deprecated and will be removed from pandas in a future version. Use pandas.concat instead.\n",
      "  df = df.append(df1)\n"
     ]
    },
    {
     "name": "stdout",
     "output_type": "stream",
     "text": [
      "C:\\Arunachal PDFs\\Mother_integrated\\Done Files 16-20\\Final excel\\S02A19P32.xlsx\n",
      "C:\\Arunachal PDFs\\Mother_integrated\\Done Files 16-20\\S02A19P33.xlsx\n"
     ]
    },
    {
     "name": "stderr",
     "output_type": "stream",
     "text": [
      "C:\\Users\\Administrator\\AppData\\Local\\Temp\\2\\ipykernel_8492\\1199900709.py:10: FutureWarning: The frame.append method is deprecated and will be removed from pandas in a future version. Use pandas.concat instead.\n",
      "  df = df.append(df1)\n"
     ]
    },
    {
     "name": "stdout",
     "output_type": "stream",
     "text": [
      "C:\\Arunachal PDFs\\Mother_integrated\\Done Files 16-20\\Final excel\\S02A19P33.xlsx\n",
      "C:\\Arunachal PDFs\\Mother_integrated\\Done Files 16-20\\S02A19P34.xlsx\n"
     ]
    },
    {
     "name": "stderr",
     "output_type": "stream",
     "text": [
      "C:\\Users\\Administrator\\AppData\\Local\\Temp\\2\\ipykernel_8492\\1199900709.py:10: FutureWarning: The frame.append method is deprecated and will be removed from pandas in a future version. Use pandas.concat instead.\n",
      "  df = df.append(df1)\n"
     ]
    },
    {
     "name": "stdout",
     "output_type": "stream",
     "text": [
      "C:\\Arunachal PDFs\\Mother_integrated\\Done Files 16-20\\Final excel\\S02A19P34.xlsx\n",
      "C:\\Arunachal PDFs\\Mother_integrated\\Done Files 16-20\\S02A19P35.xlsx\n"
     ]
    },
    {
     "name": "stderr",
     "output_type": "stream",
     "text": [
      "C:\\Users\\Administrator\\AppData\\Local\\Temp\\2\\ipykernel_8492\\1199900709.py:10: FutureWarning: The frame.append method is deprecated and will be removed from pandas in a future version. Use pandas.concat instead.\n",
      "  df = df.append(df1)\n"
     ]
    },
    {
     "name": "stdout",
     "output_type": "stream",
     "text": [
      "C:\\Arunachal PDFs\\Mother_integrated\\Done Files 16-20\\Final excel\\S02A19P35.xlsx\n",
      "C:\\Arunachal PDFs\\Mother_integrated\\Done Files 16-20\\S02A19P36.xlsx\n"
     ]
    },
    {
     "name": "stderr",
     "output_type": "stream",
     "text": [
      "C:\\Users\\Administrator\\AppData\\Local\\Temp\\2\\ipykernel_8492\\1199900709.py:10: FutureWarning: The frame.append method is deprecated and will be removed from pandas in a future version. Use pandas.concat instead.\n",
      "  df = df.append(df1)\n"
     ]
    },
    {
     "name": "stdout",
     "output_type": "stream",
     "text": [
      "C:\\Arunachal PDFs\\Mother_integrated\\Done Files 16-20\\Final excel\\S02A19P36.xlsx\n",
      "C:\\Arunachal PDFs\\Mother_integrated\\Done Files 16-20\\S02A19P37.xlsx\n"
     ]
    },
    {
     "name": "stderr",
     "output_type": "stream",
     "text": [
      "C:\\Users\\Administrator\\AppData\\Local\\Temp\\2\\ipykernel_8492\\1199900709.py:10: FutureWarning: The frame.append method is deprecated and will be removed from pandas in a future version. Use pandas.concat instead.\n",
      "  df = df.append(df1)\n"
     ]
    },
    {
     "name": "stdout",
     "output_type": "stream",
     "text": [
      "C:\\Arunachal PDFs\\Mother_integrated\\Done Files 16-20\\Final excel\\S02A19P37.xlsx\n",
      "C:\\Arunachal PDFs\\Mother_integrated\\Done Files 16-20\\S02A19P4.xlsx\n"
     ]
    },
    {
     "name": "stderr",
     "output_type": "stream",
     "text": [
      "C:\\Users\\Administrator\\AppData\\Local\\Temp\\2\\ipykernel_8492\\1199900709.py:10: FutureWarning: The frame.append method is deprecated and will be removed from pandas in a future version. Use pandas.concat instead.\n",
      "  df = df.append(df1)\n"
     ]
    },
    {
     "name": "stdout",
     "output_type": "stream",
     "text": [
      "C:\\Arunachal PDFs\\Mother_integrated\\Done Files 16-20\\Final excel\\S02A19P4.xlsx\n",
      "C:\\Arunachal PDFs\\Mother_integrated\\Done Files 16-20\\S02A19P5.xlsx\n"
     ]
    },
    {
     "name": "stderr",
     "output_type": "stream",
     "text": [
      "C:\\Users\\Administrator\\AppData\\Local\\Temp\\2\\ipykernel_8492\\1199900709.py:10: FutureWarning: The frame.append method is deprecated and will be removed from pandas in a future version. Use pandas.concat instead.\n",
      "  df = df.append(df1)\n"
     ]
    },
    {
     "name": "stdout",
     "output_type": "stream",
     "text": [
      "C:\\Arunachal PDFs\\Mother_integrated\\Done Files 16-20\\Final excel\\S02A19P5.xlsx\n",
      "C:\\Arunachal PDFs\\Mother_integrated\\Done Files 16-20\\S02A19P6.xlsx\n"
     ]
    },
    {
     "name": "stderr",
     "output_type": "stream",
     "text": [
      "C:\\Users\\Administrator\\AppData\\Local\\Temp\\2\\ipykernel_8492\\1199900709.py:10: FutureWarning: The frame.append method is deprecated and will be removed from pandas in a future version. Use pandas.concat instead.\n",
      "  df = df.append(df1)\n"
     ]
    },
    {
     "name": "stdout",
     "output_type": "stream",
     "text": [
      "C:\\Arunachal PDFs\\Mother_integrated\\Done Files 16-20\\Final excel\\S02A19P6.xlsx\n",
      "C:\\Arunachal PDFs\\Mother_integrated\\Done Files 16-20\\S02A19P7.xlsx\n"
     ]
    },
    {
     "name": "stderr",
     "output_type": "stream",
     "text": [
      "C:\\Users\\Administrator\\AppData\\Local\\Temp\\2\\ipykernel_8492\\1199900709.py:10: FutureWarning: The frame.append method is deprecated and will be removed from pandas in a future version. Use pandas.concat instead.\n",
      "  df = df.append(df1)\n"
     ]
    },
    {
     "name": "stdout",
     "output_type": "stream",
     "text": [
      "C:\\Arunachal PDFs\\Mother_integrated\\Done Files 16-20\\Final excel\\S02A19P7.xlsx\n",
      "C:\\Arunachal PDFs\\Mother_integrated\\Done Files 16-20\\S02A19P8.xlsx\n"
     ]
    },
    {
     "name": "stderr",
     "output_type": "stream",
     "text": [
      "C:\\Users\\Administrator\\AppData\\Local\\Temp\\2\\ipykernel_8492\\1199900709.py:10: FutureWarning: The frame.append method is deprecated and will be removed from pandas in a future version. Use pandas.concat instead.\n",
      "  df = df.append(df1)\n"
     ]
    },
    {
     "name": "stdout",
     "output_type": "stream",
     "text": [
      "C:\\Arunachal PDFs\\Mother_integrated\\Done Files 16-20\\Final excel\\S02A19P8.xlsx\n",
      "C:\\Arunachal PDFs\\Mother_integrated\\Done Files 16-20\\S02A19P9.xlsx\n"
     ]
    },
    {
     "name": "stderr",
     "output_type": "stream",
     "text": [
      "C:\\Users\\Administrator\\AppData\\Local\\Temp\\2\\ipykernel_8492\\1199900709.py:10: FutureWarning: The frame.append method is deprecated and will be removed from pandas in a future version. Use pandas.concat instead.\n",
      "  df = df.append(df1)\n"
     ]
    },
    {
     "name": "stdout",
     "output_type": "stream",
     "text": [
      "C:\\Arunachal PDFs\\Mother_integrated\\Done Files 16-20\\Final excel\\S02A19P9.xlsx\n",
      "C:\\Arunachal PDFs\\Mother_integrated\\Done Files 16-20\\S02A20P1.xlsx\n"
     ]
    },
    {
     "name": "stderr",
     "output_type": "stream",
     "text": [
      "C:\\Users\\Administrator\\AppData\\Local\\Temp\\2\\ipykernel_8492\\1199900709.py:10: FutureWarning: The frame.append method is deprecated and will be removed from pandas in a future version. Use pandas.concat instead.\n",
      "  df = df.append(df1)\n"
     ]
    },
    {
     "name": "stdout",
     "output_type": "stream",
     "text": [
      "C:\\Arunachal PDFs\\Mother_integrated\\Done Files 16-20\\Final excel\\S02A20P1.xlsx\n",
      "C:\\Arunachal PDFs\\Mother_integrated\\Done Files 16-20\\S02A20P10.xlsx\n"
     ]
    },
    {
     "name": "stderr",
     "output_type": "stream",
     "text": [
      "C:\\Users\\Administrator\\AppData\\Local\\Temp\\2\\ipykernel_8492\\1199900709.py:10: FutureWarning: The frame.append method is deprecated and will be removed from pandas in a future version. Use pandas.concat instead.\n",
      "  df = df.append(df1)\n"
     ]
    },
    {
     "name": "stdout",
     "output_type": "stream",
     "text": [
      "C:\\Arunachal PDFs\\Mother_integrated\\Done Files 16-20\\Final excel\\S02A20P10.xlsx\n",
      "C:\\Arunachal PDFs\\Mother_integrated\\Done Files 16-20\\S02A20P11.xlsx\n"
     ]
    },
    {
     "name": "stderr",
     "output_type": "stream",
     "text": [
      "C:\\Users\\Administrator\\AppData\\Local\\Temp\\2\\ipykernel_8492\\1199900709.py:10: FutureWarning: The frame.append method is deprecated and will be removed from pandas in a future version. Use pandas.concat instead.\n",
      "  df = df.append(df1)\n"
     ]
    },
    {
     "name": "stdout",
     "output_type": "stream",
     "text": [
      "C:\\Arunachal PDFs\\Mother_integrated\\Done Files 16-20\\Final excel\\S02A20P11.xlsx\n",
      "C:\\Arunachal PDFs\\Mother_integrated\\Done Files 16-20\\S02A20P12.xlsx\n"
     ]
    },
    {
     "name": "stderr",
     "output_type": "stream",
     "text": [
      "C:\\Users\\Administrator\\AppData\\Local\\Temp\\2\\ipykernel_8492\\1199900709.py:10: FutureWarning: The frame.append method is deprecated and will be removed from pandas in a future version. Use pandas.concat instead.\n",
      "  df = df.append(df1)\n"
     ]
    },
    {
     "name": "stdout",
     "output_type": "stream",
     "text": [
      "C:\\Arunachal PDFs\\Mother_integrated\\Done Files 16-20\\Final excel\\S02A20P12.xlsx\n",
      "C:\\Arunachal PDFs\\Mother_integrated\\Done Files 16-20\\S02A20P13.xlsx\n"
     ]
    },
    {
     "name": "stderr",
     "output_type": "stream",
     "text": [
      "C:\\Users\\Administrator\\AppData\\Local\\Temp\\2\\ipykernel_8492\\1199900709.py:10: FutureWarning: The frame.append method is deprecated and will be removed from pandas in a future version. Use pandas.concat instead.\n",
      "  df = df.append(df1)\n"
     ]
    },
    {
     "name": "stdout",
     "output_type": "stream",
     "text": [
      "C:\\Arunachal PDFs\\Mother_integrated\\Done Files 16-20\\Final excel\\S02A20P13.xlsx\n",
      "C:\\Arunachal PDFs\\Mother_integrated\\Done Files 16-20\\S02A20P14.xlsx\n"
     ]
    },
    {
     "name": "stderr",
     "output_type": "stream",
     "text": [
      "C:\\Users\\Administrator\\AppData\\Local\\Temp\\2\\ipykernel_8492\\1199900709.py:10: FutureWarning: The frame.append method is deprecated and will be removed from pandas in a future version. Use pandas.concat instead.\n",
      "  df = df.append(df1)\n"
     ]
    },
    {
     "name": "stdout",
     "output_type": "stream",
     "text": [
      "C:\\Arunachal PDFs\\Mother_integrated\\Done Files 16-20\\Final excel\\S02A20P14.xlsx\n",
      "C:\\Arunachal PDFs\\Mother_integrated\\Done Files 16-20\\S02A20P15.xlsx\n"
     ]
    },
    {
     "name": "stderr",
     "output_type": "stream",
     "text": [
      "C:\\Users\\Administrator\\AppData\\Local\\Temp\\2\\ipykernel_8492\\1199900709.py:10: FutureWarning: The frame.append method is deprecated and will be removed from pandas in a future version. Use pandas.concat instead.\n",
      "  df = df.append(df1)\n"
     ]
    },
    {
     "name": "stdout",
     "output_type": "stream",
     "text": [
      "C:\\Arunachal PDFs\\Mother_integrated\\Done Files 16-20\\Final excel\\S02A20P15.xlsx\n",
      "C:\\Arunachal PDFs\\Mother_integrated\\Done Files 16-20\\S02A20P16.xlsx\n"
     ]
    },
    {
     "name": "stderr",
     "output_type": "stream",
     "text": [
      "C:\\Users\\Administrator\\AppData\\Local\\Temp\\2\\ipykernel_8492\\1199900709.py:10: FutureWarning: The frame.append method is deprecated and will be removed from pandas in a future version. Use pandas.concat instead.\n",
      "  df = df.append(df1)\n"
     ]
    },
    {
     "name": "stdout",
     "output_type": "stream",
     "text": [
      "C:\\Arunachal PDFs\\Mother_integrated\\Done Files 16-20\\Final excel\\S02A20P16.xlsx\n",
      "C:\\Arunachal PDFs\\Mother_integrated\\Done Files 16-20\\S02A20P17.xlsx\n"
     ]
    },
    {
     "name": "stderr",
     "output_type": "stream",
     "text": [
      "C:\\Users\\Administrator\\AppData\\Local\\Temp\\2\\ipykernel_8492\\1199900709.py:10: FutureWarning: The frame.append method is deprecated and will be removed from pandas in a future version. Use pandas.concat instead.\n",
      "  df = df.append(df1)\n"
     ]
    },
    {
     "name": "stdout",
     "output_type": "stream",
     "text": [
      "C:\\Arunachal PDFs\\Mother_integrated\\Done Files 16-20\\Final excel\\S02A20P17.xlsx\n",
      "C:\\Arunachal PDFs\\Mother_integrated\\Done Files 16-20\\S02A20P18.xlsx\n"
     ]
    },
    {
     "name": "stderr",
     "output_type": "stream",
     "text": [
      "C:\\Users\\Administrator\\AppData\\Local\\Temp\\2\\ipykernel_8492\\1199900709.py:10: FutureWarning: The frame.append method is deprecated and will be removed from pandas in a future version. Use pandas.concat instead.\n",
      "  df = df.append(df1)\n"
     ]
    },
    {
     "name": "stdout",
     "output_type": "stream",
     "text": [
      "C:\\Arunachal PDFs\\Mother_integrated\\Done Files 16-20\\Final excel\\S02A20P18.xlsx\n",
      "C:\\Arunachal PDFs\\Mother_integrated\\Done Files 16-20\\S02A20P19.xlsx\n"
     ]
    },
    {
     "name": "stderr",
     "output_type": "stream",
     "text": [
      "C:\\Users\\Administrator\\AppData\\Local\\Temp\\2\\ipykernel_8492\\1199900709.py:10: FutureWarning: The frame.append method is deprecated and will be removed from pandas in a future version. Use pandas.concat instead.\n",
      "  df = df.append(df1)\n"
     ]
    },
    {
     "name": "stdout",
     "output_type": "stream",
     "text": [
      "C:\\Arunachal PDFs\\Mother_integrated\\Done Files 16-20\\Final excel\\S02A20P19.xlsx\n",
      "C:\\Arunachal PDFs\\Mother_integrated\\Done Files 16-20\\S02A20P2.xlsx\n"
     ]
    },
    {
     "name": "stderr",
     "output_type": "stream",
     "text": [
      "C:\\Users\\Administrator\\AppData\\Local\\Temp\\2\\ipykernel_8492\\1199900709.py:10: FutureWarning: The frame.append method is deprecated and will be removed from pandas in a future version. Use pandas.concat instead.\n",
      "  df = df.append(df1)\n"
     ]
    },
    {
     "name": "stdout",
     "output_type": "stream",
     "text": [
      "C:\\Arunachal PDFs\\Mother_integrated\\Done Files 16-20\\Final excel\\S02A20P2.xlsx\n",
      "C:\\Arunachal PDFs\\Mother_integrated\\Done Files 16-20\\S02A20P20.xlsx\n"
     ]
    },
    {
     "name": "stderr",
     "output_type": "stream",
     "text": [
      "C:\\Users\\Administrator\\AppData\\Local\\Temp\\2\\ipykernel_8492\\1199900709.py:10: FutureWarning: The frame.append method is deprecated and will be removed from pandas in a future version. Use pandas.concat instead.\n",
      "  df = df.append(df1)\n"
     ]
    },
    {
     "name": "stdout",
     "output_type": "stream",
     "text": [
      "C:\\Arunachal PDFs\\Mother_integrated\\Done Files 16-20\\Final excel\\S02A20P20.xlsx\n",
      "C:\\Arunachal PDFs\\Mother_integrated\\Done Files 16-20\\S02A20P21.xlsx\n"
     ]
    },
    {
     "name": "stderr",
     "output_type": "stream",
     "text": [
      "C:\\Users\\Administrator\\AppData\\Local\\Temp\\2\\ipykernel_8492\\1199900709.py:10: FutureWarning: The frame.append method is deprecated and will be removed from pandas in a future version. Use pandas.concat instead.\n",
      "  df = df.append(df1)\n"
     ]
    },
    {
     "name": "stdout",
     "output_type": "stream",
     "text": [
      "C:\\Arunachal PDFs\\Mother_integrated\\Done Files 16-20\\Final excel\\S02A20P21.xlsx\n",
      "C:\\Arunachal PDFs\\Mother_integrated\\Done Files 16-20\\S02A20P22.xlsx\n"
     ]
    },
    {
     "name": "stderr",
     "output_type": "stream",
     "text": [
      "C:\\Users\\Administrator\\AppData\\Local\\Temp\\2\\ipykernel_8492\\1199900709.py:10: FutureWarning: The frame.append method is deprecated and will be removed from pandas in a future version. Use pandas.concat instead.\n",
      "  df = df.append(df1)\n"
     ]
    },
    {
     "name": "stdout",
     "output_type": "stream",
     "text": [
      "C:\\Arunachal PDFs\\Mother_integrated\\Done Files 16-20\\Final excel\\S02A20P22.xlsx\n",
      "C:\\Arunachal PDFs\\Mother_integrated\\Done Files 16-20\\S02A20P23.xlsx\n"
     ]
    },
    {
     "name": "stderr",
     "output_type": "stream",
     "text": [
      "C:\\Users\\Administrator\\AppData\\Local\\Temp\\2\\ipykernel_8492\\1199900709.py:10: FutureWarning: The frame.append method is deprecated and will be removed from pandas in a future version. Use pandas.concat instead.\n",
      "  df = df.append(df1)\n"
     ]
    },
    {
     "name": "stdout",
     "output_type": "stream",
     "text": [
      "C:\\Arunachal PDFs\\Mother_integrated\\Done Files 16-20\\Final excel\\S02A20P23.xlsx\n",
      "C:\\Arunachal PDFs\\Mother_integrated\\Done Files 16-20\\S02A20P24.xlsx\n"
     ]
    },
    {
     "name": "stderr",
     "output_type": "stream",
     "text": [
      "C:\\Users\\Administrator\\AppData\\Local\\Temp\\2\\ipykernel_8492\\1199900709.py:10: FutureWarning: The frame.append method is deprecated and will be removed from pandas in a future version. Use pandas.concat instead.\n",
      "  df = df.append(df1)\n"
     ]
    },
    {
     "name": "stdout",
     "output_type": "stream",
     "text": [
      "C:\\Arunachal PDFs\\Mother_integrated\\Done Files 16-20\\Final excel\\S02A20P24.xlsx\n",
      "C:\\Arunachal PDFs\\Mother_integrated\\Done Files 16-20\\S02A20P25.xlsx\n"
     ]
    },
    {
     "name": "stderr",
     "output_type": "stream",
     "text": [
      "C:\\Users\\Administrator\\AppData\\Local\\Temp\\2\\ipykernel_8492\\1199900709.py:10: FutureWarning: The frame.append method is deprecated and will be removed from pandas in a future version. Use pandas.concat instead.\n",
      "  df = df.append(df1)\n"
     ]
    },
    {
     "name": "stdout",
     "output_type": "stream",
     "text": [
      "C:\\Arunachal PDFs\\Mother_integrated\\Done Files 16-20\\Final excel\\S02A20P25.xlsx\n",
      "C:\\Arunachal PDFs\\Mother_integrated\\Done Files 16-20\\S02A20P26.xlsx\n"
     ]
    },
    {
     "name": "stderr",
     "output_type": "stream",
     "text": [
      "C:\\Users\\Administrator\\AppData\\Local\\Temp\\2\\ipykernel_8492\\1199900709.py:10: FutureWarning: The frame.append method is deprecated and will be removed from pandas in a future version. Use pandas.concat instead.\n",
      "  df = df.append(df1)\n"
     ]
    },
    {
     "name": "stdout",
     "output_type": "stream",
     "text": [
      "C:\\Arunachal PDFs\\Mother_integrated\\Done Files 16-20\\Final excel\\S02A20P26.xlsx\n",
      "C:\\Arunachal PDFs\\Mother_integrated\\Done Files 16-20\\S02A20P27.xlsx\n"
     ]
    },
    {
     "name": "stderr",
     "output_type": "stream",
     "text": [
      "C:\\Users\\Administrator\\AppData\\Local\\Temp\\2\\ipykernel_8492\\1199900709.py:10: FutureWarning: The frame.append method is deprecated and will be removed from pandas in a future version. Use pandas.concat instead.\n",
      "  df = df.append(df1)\n"
     ]
    },
    {
     "name": "stdout",
     "output_type": "stream",
     "text": [
      "C:\\Arunachal PDFs\\Mother_integrated\\Done Files 16-20\\Final excel\\S02A20P27.xlsx\n",
      "C:\\Arunachal PDFs\\Mother_integrated\\Done Files 16-20\\S02A20P28.xlsx\n"
     ]
    },
    {
     "name": "stderr",
     "output_type": "stream",
     "text": [
      "C:\\Users\\Administrator\\AppData\\Local\\Temp\\2\\ipykernel_8492\\1199900709.py:10: FutureWarning: The frame.append method is deprecated and will be removed from pandas in a future version. Use pandas.concat instead.\n",
      "  df = df.append(df1)\n"
     ]
    },
    {
     "name": "stdout",
     "output_type": "stream",
     "text": [
      "C:\\Arunachal PDFs\\Mother_integrated\\Done Files 16-20\\Final excel\\S02A20P28.xlsx\n",
      "C:\\Arunachal PDFs\\Mother_integrated\\Done Files 16-20\\S02A20P3.xlsx\n"
     ]
    },
    {
     "name": "stderr",
     "output_type": "stream",
     "text": [
      "C:\\Users\\Administrator\\AppData\\Local\\Temp\\2\\ipykernel_8492\\1199900709.py:10: FutureWarning: The frame.append method is deprecated and will be removed from pandas in a future version. Use pandas.concat instead.\n",
      "  df = df.append(df1)\n"
     ]
    },
    {
     "name": "stdout",
     "output_type": "stream",
     "text": [
      "C:\\Arunachal PDFs\\Mother_integrated\\Done Files 16-20\\Final excel\\S02A20P3.xlsx\n",
      "C:\\Arunachal PDFs\\Mother_integrated\\Done Files 16-20\\S02A20P4.xlsx\n"
     ]
    },
    {
     "name": "stderr",
     "output_type": "stream",
     "text": [
      "C:\\Users\\Administrator\\AppData\\Local\\Temp\\2\\ipykernel_8492\\1199900709.py:10: FutureWarning: The frame.append method is deprecated and will be removed from pandas in a future version. Use pandas.concat instead.\n",
      "  df = df.append(df1)\n"
     ]
    },
    {
     "name": "stdout",
     "output_type": "stream",
     "text": [
      "C:\\Arunachal PDFs\\Mother_integrated\\Done Files 16-20\\Final excel\\S02A20P4.xlsx\n",
      "C:\\Arunachal PDFs\\Mother_integrated\\Done Files 16-20\\S02A20P5.xlsx\n"
     ]
    },
    {
     "name": "stderr",
     "output_type": "stream",
     "text": [
      "C:\\Users\\Administrator\\AppData\\Local\\Temp\\2\\ipykernel_8492\\1199900709.py:10: FutureWarning: The frame.append method is deprecated and will be removed from pandas in a future version. Use pandas.concat instead.\n",
      "  df = df.append(df1)\n"
     ]
    },
    {
     "name": "stdout",
     "output_type": "stream",
     "text": [
      "C:\\Arunachal PDFs\\Mother_integrated\\Done Files 16-20\\Final excel\\S02A20P5.xlsx\n",
      "C:\\Arunachal PDFs\\Mother_integrated\\Done Files 16-20\\S02A20P6.xlsx\n"
     ]
    },
    {
     "name": "stderr",
     "output_type": "stream",
     "text": [
      "C:\\Users\\Administrator\\AppData\\Local\\Temp\\2\\ipykernel_8492\\1199900709.py:10: FutureWarning: The frame.append method is deprecated and will be removed from pandas in a future version. Use pandas.concat instead.\n",
      "  df = df.append(df1)\n"
     ]
    },
    {
     "name": "stdout",
     "output_type": "stream",
     "text": [
      "C:\\Arunachal PDFs\\Mother_integrated\\Done Files 16-20\\Final excel\\S02A20P6.xlsx\n",
      "C:\\Arunachal PDFs\\Mother_integrated\\Done Files 16-20\\S02A20P7.xlsx\n"
     ]
    },
    {
     "name": "stderr",
     "output_type": "stream",
     "text": [
      "C:\\Users\\Administrator\\AppData\\Local\\Temp\\2\\ipykernel_8492\\1199900709.py:10: FutureWarning: The frame.append method is deprecated and will be removed from pandas in a future version. Use pandas.concat instead.\n",
      "  df = df.append(df1)\n"
     ]
    },
    {
     "name": "stdout",
     "output_type": "stream",
     "text": [
      "C:\\Arunachal PDFs\\Mother_integrated\\Done Files 16-20\\Final excel\\S02A20P7.xlsx\n",
      "C:\\Arunachal PDFs\\Mother_integrated\\Done Files 16-20\\S02A20P8.xlsx\n"
     ]
    },
    {
     "name": "stderr",
     "output_type": "stream",
     "text": [
      "C:\\Users\\Administrator\\AppData\\Local\\Temp\\2\\ipykernel_8492\\1199900709.py:10: FutureWarning: The frame.append method is deprecated and will be removed from pandas in a future version. Use pandas.concat instead.\n",
      "  df = df.append(df1)\n"
     ]
    },
    {
     "name": "stdout",
     "output_type": "stream",
     "text": [
      "C:\\Arunachal PDFs\\Mother_integrated\\Done Files 16-20\\Final excel\\S02A20P8.xlsx\n",
      "C:\\Arunachal PDFs\\Mother_integrated\\Done Files 16-20\\S02A20P9.xlsx\n"
     ]
    },
    {
     "name": "stderr",
     "output_type": "stream",
     "text": [
      "C:\\Users\\Administrator\\AppData\\Local\\Temp\\2\\ipykernel_8492\\1199900709.py:10: FutureWarning: The frame.append method is deprecated and will be removed from pandas in a future version. Use pandas.concat instead.\n",
      "  df = df.append(df1)\n"
     ]
    },
    {
     "name": "stdout",
     "output_type": "stream",
     "text": [
      "C:\\Arunachal PDFs\\Mother_integrated\\Done Files 16-20\\Final excel\\S02A20P9.xlsx\n"
     ]
    }
   ],
   "source": [
    "EX, OUT = [], []\n",
    "ex_li = os.listdir(Input)\n",
    "\n",
    "df = pd.DataFrame()\n",
    "for i in ex_li:\n",
    "    if i.endswith('.xlsx'):\n",
    "        print(Input+i)\n",
    "        try:\n",
    "            df1 = voter(Input+i)\n",
    "            df = df.append(df1)\n",
    "            df.to_excel(Output+i)\n",
    "            OUT.append(Input+i)\n",
    "            print(Output+i)\n",
    "            \n",
    "        except AttributeError:\n",
    "            print(\"AttributeError\")\n",
    "            EX.append(Input+i)\n",
    "            #print(Input+i)\n",
    "        except UnboundLocalError:\n",
    "            EX.append(Input+i)\n",
    "        except TypeError:\n",
    "            EX.append(Input+i)\n",
    "        except IndexError:\n",
    "            EX.append(Input+i)\n",
    "            continue\n",
    "        \n",
    "        \n"
   ]
  },
  {
   "cell_type": "code",
   "execution_count": 5,
   "id": "fb6590ec",
   "metadata": {},
   "outputs": [],
   "source": [
    "Error_files = pd.DataFrame(list(zip(EX)), columns=['Error files'])\n",
    "OUT_F = pd.DataFrame(list(zip(OUT)), columns=['Output files'])"
   ]
  },
  {
   "cell_type": "code",
   "execution_count": 9,
   "id": "c501e720",
   "metadata": {},
   "outputs": [
    {
     "name": "stdout",
     "output_type": "stream",
     "text": [
      "                                          Error files\n",
      "0   C:\\Arunachal PDFs\\Mother_integrated\\Done Files...\n",
      "1   C:\\Arunachal PDFs\\Mother_integrated\\Done Files...\n",
      "2   C:\\Arunachal PDFs\\Mother_integrated\\Done Files...\n",
      "3   C:\\Arunachal PDFs\\Mother_integrated\\Done Files...\n",
      "4   C:\\Arunachal PDFs\\Mother_integrated\\Done Files...\n",
      "5   C:\\Arunachal PDFs\\Mother_integrated\\Done Files...\n",
      "6   C:\\Arunachal PDFs\\Mother_integrated\\Done Files...\n",
      "7   C:\\Arunachal PDFs\\Mother_integrated\\Done Files...\n",
      "8   C:\\Arunachal PDFs\\Mother_integrated\\Done Files...\n",
      "9   C:\\Arunachal PDFs\\Mother_integrated\\Done Files...\n",
      "10  C:\\Arunachal PDFs\\Mother_integrated\\Done Files...\n",
      "11  C:\\Arunachal PDFs\\Mother_integrated\\Done Files...\n",
      "12  C:\\Arunachal PDFs\\Mother_integrated\\Done Files...\n",
      "13  C:\\Arunachal PDFs\\Mother_integrated\\Done Files...\n"
     ]
    }
   ],
   "source": [
    "print(Error_files)"
   ]
  },
  {
   "cell_type": "code",
   "execution_count": 11,
   "id": "3ddd7610",
   "metadata": {},
   "outputs": [],
   "source": [
    "Error_files.to_excel('Error file list.xlsx')\n",
    "OUT_F.to_excel('excell done file list.xlsx')"
   ]
  },
  {
   "cell_type": "code",
   "execution_count": null,
   "id": "38946d03",
   "metadata": {},
   "outputs": [],
   "source": []
  },
  {
   "cell_type": "code",
   "execution_count": null,
   "id": "78a333ef",
   "metadata": {},
   "outputs": [],
   "source": []
  },
  {
   "cell_type": "code",
   "execution_count": null,
   "id": "52f23432",
   "metadata": {},
   "outputs": [],
   "source": []
  },
  {
   "cell_type": "code",
   "execution_count": null,
   "id": "08ab14d6",
   "metadata": {},
   "outputs": [],
   "source": []
  },
  {
   "cell_type": "code",
   "execution_count": null,
   "id": "b4fdad4b",
   "metadata": {},
   "outputs": [],
   "source": []
  },
  {
   "cell_type": "code",
   "execution_count": null,
   "id": "c2e6fe8c",
   "metadata": {},
   "outputs": [],
   "source": []
  }
 ],
 "metadata": {
  "kernelspec": {
   "display_name": "Python 3 (ipykernel)",
   "language": "python",
   "name": "python3"
  },
  "language_info": {
   "codemirror_mode": {
    "name": "ipython",
    "version": 3
   },
   "file_extension": ".py",
   "mimetype": "text/x-python",
   "name": "python",
   "nbconvert_exporter": "python",
   "pygments_lexer": "ipython3",
   "version": "3.9.12"
  }
 },
 "nbformat": 4,
 "nbformat_minor": 5
}
